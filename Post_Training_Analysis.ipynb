{
 "cells": [
  {
   "cell_type": "code",
   "execution_count": null,
   "metadata": {
    "id": "_BPxUO0K93fm"
   },
   "outputs": [],
   "source": [
    "import pandas as pd\n",
    "import numpy as np\n",
    "import matplotlib.pyplot as plt\n",
    "import seaborn as sns\n",
    "sns.set_style(\"whitegrid\")\n",
    "from sklearn.model_selection import train_test_split\n",
    "from sklearn.feature_extraction.text import CountVectorizer\n",
    "from sklearn.preprocessing import Normalizer\n",
    "from sklearn.preprocessing import OrdinalEncoder\n",
    "\n",
    "from sklearn.metrics import accuracy_score,confusion_matrix\n",
    "from sklearn.metrics import log_loss,roc_auc_score\n",
    "\n",
    "from sklearn.linear_model import LogisticRegression\n",
    "from sklearn.neighbors import KNeighborsClassifier\n",
    "from sklearn.tree import DecisionTreeClassifier\n",
    "from sklearn.svm import SVC\n",
    "from sklearn.svm import LinearSVC\n",
    "from sklearn.naive_bayes import GaussianNB\n",
    "from sklearn.naive_bayes import CategoricalNB\n",
    "from sklearn.naive_bayes import MultinomialNB\n",
    "from sklearn.ensemble import RandomForestClassifier\n",
    "from sklearn.ensemble import StackingClassifier\n",
    "from sklearn.ensemble import HistGradientBoostingClassifier\n",
    "from sklearn.ensemble import GradientBoostingClassifier\n",
    "from sklearn.ensemble import BaggingClassifier\n",
    "from sklearn.ensemble import AdaBoostClassifier\n",
    "from sklearn.ensemble import ExtraTreesClassifier\n",
    "\n",
    "import xgboost as xgb\n",
    "\n",
    "from sklearn.calibration import CalibratedClassifierCV\n",
    "\n",
    "from sklearn.model_selection import RandomizedSearchCV\n",
    "from sklearn.model_selection import GridSearchCV\n",
    "\n",
    "import pickle\n",
    "from prettytable import PrettyTable\n",
    "from tqdm import tqdm\n",
    "import sys\n",
    "import warnings\n",
    "warnings.filterwarnings(\"ignore\")"
   ]
  },
  {
   "cell_type": "code",
   "execution_count": null,
   "metadata": {
    "colab": {
     "base_uri": "https://localhost:8080/"
    },
    "id": "lHxN5n1U-Os1",
    "outputId": "53adf2e0-3bc7-446b-a757-dcbfaaeb79c6"
   },
   "outputs": [
    {
     "name": "stdout",
     "output_type": "stream",
     "text": [
      "Mounted at /content/drive\n"
     ]
    }
   ],
   "source": [
    "from google.colab import drive\n",
    "drive.mount('/content/drive')"
   ]
  },
  {
   "cell_type": "markdown",
   "metadata": {
    "id": "BhN2UB4_9HhS"
   },
   "source": [
    "## 1.1 Reading Data"
   ]
  },
  {
   "cell_type": "code",
   "execution_count": null,
   "metadata": {
    "colab": {
     "base_uri": "https://localhost:8080/",
     "height": 386
    },
    "id": "psMJJ5T1-Ovk",
    "outputId": "825f2a2d-294b-4ebe-96d6-ffb995d8790b"
   },
   "outputs": [
    {
     "data": {
      "text/html": [
       "\n",
       "  <div id=\"df-0a8bf2e0-18c9-433e-82ae-5de8da3823fe\">\n",
       "    <div class=\"colab-df-container\">\n",
       "      <div>\n",
       "<style scoped>\n",
       "    .dataframe tbody tr th:only-of-type {\n",
       "        vertical-align: middle;\n",
       "    }\n",
       "\n",
       "    .dataframe tbody tr th {\n",
       "        vertical-align: top;\n",
       "    }\n",
       "\n",
       "    .dataframe thead th {\n",
       "        text-align: right;\n",
       "    }\n",
       "</style>\n",
       "<table border=\"1\" class=\"dataframe\">\n",
       "  <thead>\n",
       "    <tr style=\"text-align: right;\">\n",
       "      <th></th>\n",
       "      <th>destination</th>\n",
       "      <th>passanger</th>\n",
       "      <th>weather</th>\n",
       "      <th>temperature</th>\n",
       "      <th>time</th>\n",
       "      <th>coupon</th>\n",
       "      <th>expiration</th>\n",
       "      <th>gender</th>\n",
       "      <th>age</th>\n",
       "      <th>maritalStatus</th>\n",
       "      <th>...</th>\n",
       "      <th>CoffeeHouse</th>\n",
       "      <th>CarryAway</th>\n",
       "      <th>RestaurantLessThan20</th>\n",
       "      <th>Restaurant20To50</th>\n",
       "      <th>toCoupon_GEQ5min</th>\n",
       "      <th>toCoupon_GEQ15min</th>\n",
       "      <th>toCoupon_GEQ25min</th>\n",
       "      <th>direction_same</th>\n",
       "      <th>direction_opp</th>\n",
       "      <th>Y</th>\n",
       "    </tr>\n",
       "  </thead>\n",
       "  <tbody>\n",
       "    <tr>\n",
       "      <th>0</th>\n",
       "      <td>No Urgent Place</td>\n",
       "      <td>Alone</td>\n",
       "      <td>Sunny</td>\n",
       "      <td>55</td>\n",
       "      <td>2PM</td>\n",
       "      <td>Restaurant(&lt;20)</td>\n",
       "      <td>1d</td>\n",
       "      <td>Female</td>\n",
       "      <td>21</td>\n",
       "      <td>Unmarried partner</td>\n",
       "      <td>...</td>\n",
       "      <td>never</td>\n",
       "      <td>NaN</td>\n",
       "      <td>4~8</td>\n",
       "      <td>1~3</td>\n",
       "      <td>1</td>\n",
       "      <td>0</td>\n",
       "      <td>0</td>\n",
       "      <td>0</td>\n",
       "      <td>1</td>\n",
       "      <td>1</td>\n",
       "    </tr>\n",
       "    <tr>\n",
       "      <th>1</th>\n",
       "      <td>No Urgent Place</td>\n",
       "      <td>Friend(s)</td>\n",
       "      <td>Sunny</td>\n",
       "      <td>80</td>\n",
       "      <td>10AM</td>\n",
       "      <td>Coffee House</td>\n",
       "      <td>2h</td>\n",
       "      <td>Female</td>\n",
       "      <td>21</td>\n",
       "      <td>Unmarried partner</td>\n",
       "      <td>...</td>\n",
       "      <td>never</td>\n",
       "      <td>NaN</td>\n",
       "      <td>4~8</td>\n",
       "      <td>1~3</td>\n",
       "      <td>1</td>\n",
       "      <td>0</td>\n",
       "      <td>0</td>\n",
       "      <td>0</td>\n",
       "      <td>1</td>\n",
       "      <td>0</td>\n",
       "    </tr>\n",
       "    <tr>\n",
       "      <th>2</th>\n",
       "      <td>No Urgent Place</td>\n",
       "      <td>Friend(s)</td>\n",
       "      <td>Sunny</td>\n",
       "      <td>80</td>\n",
       "      <td>10AM</td>\n",
       "      <td>Carry out &amp; Take away</td>\n",
       "      <td>2h</td>\n",
       "      <td>Female</td>\n",
       "      <td>21</td>\n",
       "      <td>Unmarried partner</td>\n",
       "      <td>...</td>\n",
       "      <td>never</td>\n",
       "      <td>NaN</td>\n",
       "      <td>4~8</td>\n",
       "      <td>1~3</td>\n",
       "      <td>1</td>\n",
       "      <td>1</td>\n",
       "      <td>0</td>\n",
       "      <td>0</td>\n",
       "      <td>1</td>\n",
       "      <td>1</td>\n",
       "    </tr>\n",
       "    <tr>\n",
       "      <th>3</th>\n",
       "      <td>No Urgent Place</td>\n",
       "      <td>Friend(s)</td>\n",
       "      <td>Sunny</td>\n",
       "      <td>80</td>\n",
       "      <td>2PM</td>\n",
       "      <td>Coffee House</td>\n",
       "      <td>2h</td>\n",
       "      <td>Female</td>\n",
       "      <td>21</td>\n",
       "      <td>Unmarried partner</td>\n",
       "      <td>...</td>\n",
       "      <td>never</td>\n",
       "      <td>NaN</td>\n",
       "      <td>4~8</td>\n",
       "      <td>1~3</td>\n",
       "      <td>1</td>\n",
       "      <td>1</td>\n",
       "      <td>0</td>\n",
       "      <td>0</td>\n",
       "      <td>1</td>\n",
       "      <td>0</td>\n",
       "    </tr>\n",
       "    <tr>\n",
       "      <th>4</th>\n",
       "      <td>No Urgent Place</td>\n",
       "      <td>Friend(s)</td>\n",
       "      <td>Sunny</td>\n",
       "      <td>80</td>\n",
       "      <td>2PM</td>\n",
       "      <td>Coffee House</td>\n",
       "      <td>1d</td>\n",
       "      <td>Female</td>\n",
       "      <td>21</td>\n",
       "      <td>Unmarried partner</td>\n",
       "      <td>...</td>\n",
       "      <td>never</td>\n",
       "      <td>NaN</td>\n",
       "      <td>4~8</td>\n",
       "      <td>1~3</td>\n",
       "      <td>1</td>\n",
       "      <td>1</td>\n",
       "      <td>0</td>\n",
       "      <td>0</td>\n",
       "      <td>1</td>\n",
       "      <td>0</td>\n",
       "    </tr>\n",
       "  </tbody>\n",
       "</table>\n",
       "<p>5 rows × 26 columns</p>\n",
       "</div>\n",
       "      <button class=\"colab-df-convert\" onclick=\"convertToInteractive('df-0a8bf2e0-18c9-433e-82ae-5de8da3823fe')\"\n",
       "              title=\"Convert this dataframe to an interactive table.\"\n",
       "              style=\"display:none;\">\n",
       "        \n",
       "  <svg xmlns=\"http://www.w3.org/2000/svg\" height=\"24px\"viewBox=\"0 0 24 24\"\n",
       "       width=\"24px\">\n",
       "    <path d=\"M0 0h24v24H0V0z\" fill=\"none\"/>\n",
       "    <path d=\"M18.56 5.44l.94 2.06.94-2.06 2.06-.94-2.06-.94-.94-2.06-.94 2.06-2.06.94zm-11 1L8.5 8.5l.94-2.06 2.06-.94-2.06-.94L8.5 2.5l-.94 2.06-2.06.94zm10 10l.94 2.06.94-2.06 2.06-.94-2.06-.94-.94-2.06-.94 2.06-2.06.94z\"/><path d=\"M17.41 7.96l-1.37-1.37c-.4-.4-.92-.59-1.43-.59-.52 0-1.04.2-1.43.59L10.3 9.45l-7.72 7.72c-.78.78-.78 2.05 0 2.83L4 21.41c.39.39.9.59 1.41.59.51 0 1.02-.2 1.41-.59l7.78-7.78 2.81-2.81c.8-.78.8-2.07 0-2.86zM5.41 20L4 18.59l7.72-7.72 1.47 1.35L5.41 20z\"/>\n",
       "  </svg>\n",
       "      </button>\n",
       "      \n",
       "  <style>\n",
       "    .colab-df-container {\n",
       "      display:flex;\n",
       "      flex-wrap:wrap;\n",
       "      gap: 12px;\n",
       "    }\n",
       "\n",
       "    .colab-df-convert {\n",
       "      background-color: #E8F0FE;\n",
       "      border: none;\n",
       "      border-radius: 50%;\n",
       "      cursor: pointer;\n",
       "      display: none;\n",
       "      fill: #1967D2;\n",
       "      height: 32px;\n",
       "      padding: 0 0 0 0;\n",
       "      width: 32px;\n",
       "    }\n",
       "\n",
       "    .colab-df-convert:hover {\n",
       "      background-color: #E2EBFA;\n",
       "      box-shadow: 0px 1px 2px rgba(60, 64, 67, 0.3), 0px 1px 3px 1px rgba(60, 64, 67, 0.15);\n",
       "      fill: #174EA6;\n",
       "    }\n",
       "\n",
       "    [theme=dark] .colab-df-convert {\n",
       "      background-color: #3B4455;\n",
       "      fill: #D2E3FC;\n",
       "    }\n",
       "\n",
       "    [theme=dark] .colab-df-convert:hover {\n",
       "      background-color: #434B5C;\n",
       "      box-shadow: 0px 1px 3px 1px rgba(0, 0, 0, 0.15);\n",
       "      filter: drop-shadow(0px 1px 2px rgba(0, 0, 0, 0.3));\n",
       "      fill: #FFFFFF;\n",
       "    }\n",
       "  </style>\n",
       "\n",
       "      <script>\n",
       "        const buttonEl =\n",
       "          document.querySelector('#df-0a8bf2e0-18c9-433e-82ae-5de8da3823fe button.colab-df-convert');\n",
       "        buttonEl.style.display =\n",
       "          google.colab.kernel.accessAllowed ? 'block' : 'none';\n",
       "\n",
       "        async function convertToInteractive(key) {\n",
       "          const element = document.querySelector('#df-0a8bf2e0-18c9-433e-82ae-5de8da3823fe');\n",
       "          const dataTable =\n",
       "            await google.colab.kernel.invokeFunction('convertToInteractive',\n",
       "                                                     [key], {});\n",
       "          if (!dataTable) return;\n",
       "\n",
       "          const docLinkHtml = 'Like what you see? Visit the ' +\n",
       "            '<a target=\"_blank\" href=https://colab.research.google.com/notebooks/data_table.ipynb>data table notebook</a>'\n",
       "            + ' to learn more about interactive tables.';\n",
       "          element.innerHTML = '';\n",
       "          dataTable['output_type'] = 'display_data';\n",
       "          await google.colab.output.renderOutput(dataTable, element);\n",
       "          const docLink = document.createElement('div');\n",
       "          docLink.innerHTML = docLinkHtml;\n",
       "          element.appendChild(docLink);\n",
       "        }\n",
       "      </script>\n",
       "    </div>\n",
       "  </div>\n",
       "  "
      ],
      "text/plain": [
       "       destination  passanger weather  temperature  time  \\\n",
       "0  No Urgent Place      Alone   Sunny           55   2PM   \n",
       "1  No Urgent Place  Friend(s)   Sunny           80  10AM   \n",
       "2  No Urgent Place  Friend(s)   Sunny           80  10AM   \n",
       "3  No Urgent Place  Friend(s)   Sunny           80   2PM   \n",
       "4  No Urgent Place  Friend(s)   Sunny           80   2PM   \n",
       "\n",
       "                  coupon expiration  gender age      maritalStatus  ...  \\\n",
       "0        Restaurant(<20)         1d  Female  21  Unmarried partner  ...   \n",
       "1           Coffee House         2h  Female  21  Unmarried partner  ...   \n",
       "2  Carry out & Take away         2h  Female  21  Unmarried partner  ...   \n",
       "3           Coffee House         2h  Female  21  Unmarried partner  ...   \n",
       "4           Coffee House         1d  Female  21  Unmarried partner  ...   \n",
       "\n",
       "   CoffeeHouse CarryAway RestaurantLessThan20 Restaurant20To50  \\\n",
       "0        never       NaN                  4~8              1~3   \n",
       "1        never       NaN                  4~8              1~3   \n",
       "2        never       NaN                  4~8              1~3   \n",
       "3        never       NaN                  4~8              1~3   \n",
       "4        never       NaN                  4~8              1~3   \n",
       "\n",
       "  toCoupon_GEQ5min toCoupon_GEQ15min toCoupon_GEQ25min direction_same  \\\n",
       "0                1                 0                 0              0   \n",
       "1                1                 0                 0              0   \n",
       "2                1                 1                 0              0   \n",
       "3                1                 1                 0              0   \n",
       "4                1                 1                 0              0   \n",
       "\n",
       "  direction_opp  Y  \n",
       "0             1  1  \n",
       "1             1  0  \n",
       "2             1  1  \n",
       "3             1  0  \n",
       "4             1  0  \n",
       "\n",
       "[5 rows x 26 columns]"
      ]
     },
     "execution_count": 3,
     "metadata": {},
     "output_type": "execute_result"
    }
   ],
   "source": [
    "data = pd.read_csv('/content/drive/MyDrive/Applied AI/CS1/in-vehicle-coupon-recommendation.csv')\n",
    "data.head()"
   ]
  },
  {
   "cell_type": "code",
   "execution_count": null,
   "metadata": {
    "colab": {
     "base_uri": "https://localhost:8080/"
    },
    "id": "g9M7-AAK-Oyg",
    "outputId": "1904f26d-8a96-4793-bb9a-97585e32ec89"
   },
   "outputs": [
    {
     "name": "stdout",
     "output_type": "stream",
     "text": [
      "Number of data points: 12684\n",
      "Number of features: 26\n",
      "----------------------------------------------------------------------------------------------------\n",
      "The attributes of data : ['destination' 'passanger' 'weather' 'temperature' 'time' 'coupon'\n",
      " 'expiration' 'gender' 'age' 'maritalStatus' 'has_children' 'education'\n",
      " 'occupation' 'income' 'car' 'Bar' 'CoffeeHouse' 'CarryAway'\n",
      " 'RestaurantLessThan20' 'Restaurant20To50' 'toCoupon_GEQ5min'\n",
      " 'toCoupon_GEQ15min' 'toCoupon_GEQ25min' 'direction_same' 'direction_opp'\n",
      " 'Y']\n"
     ]
    }
   ],
   "source": [
    "print(\"Number of data points:\", data.shape[0])\n",
    "print(\"Number of features:\", data.shape[1])\n",
    "print('-'*100)\n",
    "print(\"The attributes of data :\", data.columns.values)"
   ]
  },
  {
   "cell_type": "code",
   "execution_count": null,
   "metadata": {
    "colab": {
     "base_uri": "https://localhost:8080/"
    },
    "id": "YOLxO-HGYe-a",
    "outputId": "949a1c54-4062-4dca-ec8d-08038d0707c2"
   },
   "outputs": [
    {
     "name": "stdout",
     "output_type": "stream",
     "text": [
      "The number of users that are accepted the coupon is  7210 , 56.843 %\n",
      "The number of users that are rejected the coupon is  5474 , 43.157 %\n"
     ]
    }
   ],
   "source": [
    "Y_value_counts = data.groupby('Y').Y.count()\n",
    "print('The number of users that are accepted the coupon is ',Y_value_counts[1],',',round(Y_value_counts[1]/data.shape[0]*100,3),'%')\n",
    "print('The number of users that are rejected the coupon is ',Y_value_counts[0],',',round(Y_value_counts[0]/data.shape[0]*100,3),'%')"
   ]
  },
  {
   "cell_type": "code",
   "execution_count": null,
   "metadata": {
    "id": "rvHENj61-O1U"
   },
   "outputs": [],
   "source": [
    "# data.info()\n",
    "# data.nunique()"
   ]
  },
  {
   "cell_type": "markdown",
   "metadata": {
    "id": "tLe_5XjGDOwj"
   },
   "source": [
    "## 1.2 Train Test Split"
   ]
  },
  {
   "cell_type": "code",
   "execution_count": null,
   "metadata": {
    "id": "EgdeWdKZDLR3"
   },
   "outputs": [],
   "source": [
    "X = data.drop(['Y'], axis=1)\n",
    "y = data['Y'].values"
   ]
  },
  {
   "cell_type": "code",
   "execution_count": null,
   "metadata": {
    "colab": {
     "base_uri": "https://localhost:8080/"
    },
    "id": "kN9B9a5fDLVS",
    "outputId": "9872f4ee-a77a-4e90-94b2-b7c323866606"
   },
   "outputs": [
    {
     "name": "stdout",
     "output_type": "stream",
     "text": [
      "(8117, 25) (8117,)\n",
      "(2030, 25) (2030,)\n",
      "(2537, 25) (2537,)\n"
     ]
    }
   ],
   "source": [
    "# train test split\n",
    "from sklearn.model_selection import train_test_split\n",
    "X_train, X_PTA, y_train, y_PTA = train_test_split(X, y, test_size=0.20, stratify=y)\n",
    "X_train, X_test, y_train, y_test = train_test_split(X_train, y_train, test_size=0.20, stratify=y_train)\n",
    "\n",
    "print(X_train.shape, y_train.shape)\n",
    "print(X_test.shape, y_test.shape)\n",
    "print(X_PTA.shape, y_PTA.shape)"
   ]
  },
  {
   "cell_type": "code",
   "execution_count": null,
   "metadata": {
    "colab": {
     "base_uri": "https://localhost:8080/"
    },
    "id": "PqEJodNqDLYg",
    "outputId": "d9621a19-ea7a-4745-9125-b5d6652c9041"
   },
   "outputs": [
    {
     "name": "stdout",
     "output_type": "stream",
     "text": [
      "<class 'pandas.core.frame.DataFrame'>\n",
      "Int64Index: 8117 entries, 4687 to 3457\n",
      "Data columns (total 25 columns):\n",
      " #   Column                Non-Null Count  Dtype \n",
      "---  ------                --------------  ----- \n",
      " 0   destination           8117 non-null   object\n",
      " 1   passanger             8117 non-null   object\n",
      " 2   weather               8117 non-null   object\n",
      " 3   temperature           8117 non-null   int64 \n",
      " 4   time                  8117 non-null   object\n",
      " 5   coupon                8117 non-null   object\n",
      " 6   expiration            8117 non-null   object\n",
      " 7   gender                8117 non-null   object\n",
      " 8   age                   8117 non-null   object\n",
      " 9   maritalStatus         8117 non-null   object\n",
      " 10  has_children          8117 non-null   int64 \n",
      " 11  education             8117 non-null   object\n",
      " 12  occupation            8117 non-null   object\n",
      " 13  income                8117 non-null   object\n",
      " 14  car                   74 non-null     object\n",
      " 15  Bar                   8057 non-null   object\n",
      " 16  CoffeeHouse           7980 non-null   object\n",
      " 17  CarryAway             8031 non-null   object\n",
      " 18  RestaurantLessThan20  8035 non-null   object\n",
      " 19  Restaurant20To50      7998 non-null   object\n",
      " 20  toCoupon_GEQ5min      8117 non-null   int64 \n",
      " 21  toCoupon_GEQ15min     8117 non-null   int64 \n",
      " 22  toCoupon_GEQ25min     8117 non-null   int64 \n",
      " 23  direction_same        8117 non-null   int64 \n",
      " 24  direction_opp         8117 non-null   int64 \n",
      "dtypes: int64(7), object(18)\n",
      "memory usage: 1.6+ MB\n"
     ]
    }
   ],
   "source": [
    "X_train.info()"
   ]
  },
  {
   "cell_type": "code",
   "execution_count": null,
   "metadata": {
    "colab": {
     "base_uri": "https://localhost:8080/"
    },
    "id": "J0RmAHyoD6JO",
    "outputId": "b6c6ab06-8c92-43d0-c04f-2eed6a7a4dad"
   },
   "outputs": [
    {
     "name": "stdout",
     "output_type": "stream",
     "text": [
      "Is there any missing value present or not? True\n"
     ]
    }
   ],
   "source": [
    "print('Is there any missing value present or not?',X_train.isnull().values.any())"
   ]
  },
  {
   "cell_type": "markdown",
   "metadata": {
    "id": "Ip08Sitb9Mxz"
   },
   "source": [
    "## 1.3 Data Cleaning"
   ]
  },
  {
   "cell_type": "code",
   "execution_count": null,
   "metadata": {
    "id": "U8qpZSRi-O4A"
   },
   "outputs": [],
   "source": [
    "# # Remove duplicates\n",
    "# duplicate = data[data.duplicated(keep = 'last')]\n",
    "# # duplicate.shape #(74, 26)\n",
    "# data = data.drop_duplicates()\n",
    "# print(data.shape)"
   ]
  },
  {
   "cell_type": "markdown",
   "metadata": {
    "id": "5h8FZDim9Yds"
   },
   "source": [
    "__Missing Values__"
   ]
  },
  {
   "cell_type": "code",
   "execution_count": null,
   "metadata": {
    "colab": {
     "base_uri": "https://localhost:8080/",
     "height": 255
    },
    "id": "tctMb1ix-O6r",
    "outputId": "b8680207-0131-4b45-91f6-366fe063e86c"
   },
   "outputs": [
    {
     "name": "stdout",
     "output_type": "stream",
     "text": [
      "Is there any missing value present or not? True\n"
     ]
    },
    {
     "data": {
      "text/html": [
       "\n",
       "  <div id=\"df-00776320-3740-41a3-8501-cad0f082f01f\">\n",
       "    <div class=\"colab-df-container\">\n",
       "      <div>\n",
       "<style scoped>\n",
       "    .dataframe tbody tr th:only-of-type {\n",
       "        vertical-align: middle;\n",
       "    }\n",
       "\n",
       "    .dataframe tbody tr th {\n",
       "        vertical-align: top;\n",
       "    }\n",
       "\n",
       "    .dataframe thead th {\n",
       "        text-align: right;\n",
       "    }\n",
       "</style>\n",
       "<table border=\"1\" class=\"dataframe\">\n",
       "  <thead>\n",
       "    <tr style=\"text-align: right;\">\n",
       "      <th></th>\n",
       "      <th>missing_count</th>\n",
       "      <th>missing_percentage</th>\n",
       "    </tr>\n",
       "  </thead>\n",
       "  <tbody>\n",
       "    <tr>\n",
       "      <th>car</th>\n",
       "      <td>12576</td>\n",
       "      <td>99.148534</td>\n",
       "    </tr>\n",
       "    <tr>\n",
       "      <th>Bar</th>\n",
       "      <td>107</td>\n",
       "      <td>0.843582</td>\n",
       "    </tr>\n",
       "    <tr>\n",
       "      <th>CoffeeHouse</th>\n",
       "      <td>217</td>\n",
       "      <td>1.710817</td>\n",
       "    </tr>\n",
       "    <tr>\n",
       "      <th>CarryAway</th>\n",
       "      <td>151</td>\n",
       "      <td>1.190476</td>\n",
       "    </tr>\n",
       "    <tr>\n",
       "      <th>RestaurantLessThan20</th>\n",
       "      <td>130</td>\n",
       "      <td>1.024913</td>\n",
       "    </tr>\n",
       "    <tr>\n",
       "      <th>Restaurant20To50</th>\n",
       "      <td>189</td>\n",
       "      <td>1.490066</td>\n",
       "    </tr>\n",
       "  </tbody>\n",
       "</table>\n",
       "</div>\n",
       "      <button class=\"colab-df-convert\" onclick=\"convertToInteractive('df-00776320-3740-41a3-8501-cad0f082f01f')\"\n",
       "              title=\"Convert this dataframe to an interactive table.\"\n",
       "              style=\"display:none;\">\n",
       "        \n",
       "  <svg xmlns=\"http://www.w3.org/2000/svg\" height=\"24px\"viewBox=\"0 0 24 24\"\n",
       "       width=\"24px\">\n",
       "    <path d=\"M0 0h24v24H0V0z\" fill=\"none\"/>\n",
       "    <path d=\"M18.56 5.44l.94 2.06.94-2.06 2.06-.94-2.06-.94-.94-2.06-.94 2.06-2.06.94zm-11 1L8.5 8.5l.94-2.06 2.06-.94-2.06-.94L8.5 2.5l-.94 2.06-2.06.94zm10 10l.94 2.06.94-2.06 2.06-.94-2.06-.94-.94-2.06-.94 2.06-2.06.94z\"/><path d=\"M17.41 7.96l-1.37-1.37c-.4-.4-.92-.59-1.43-.59-.52 0-1.04.2-1.43.59L10.3 9.45l-7.72 7.72c-.78.78-.78 2.05 0 2.83L4 21.41c.39.39.9.59 1.41.59.51 0 1.02-.2 1.41-.59l7.78-7.78 2.81-2.81c.8-.78.8-2.07 0-2.86zM5.41 20L4 18.59l7.72-7.72 1.47 1.35L5.41 20z\"/>\n",
       "  </svg>\n",
       "      </button>\n",
       "      \n",
       "  <style>\n",
       "    .colab-df-container {\n",
       "      display:flex;\n",
       "      flex-wrap:wrap;\n",
       "      gap: 12px;\n",
       "    }\n",
       "\n",
       "    .colab-df-convert {\n",
       "      background-color: #E8F0FE;\n",
       "      border: none;\n",
       "      border-radius: 50%;\n",
       "      cursor: pointer;\n",
       "      display: none;\n",
       "      fill: #1967D2;\n",
       "      height: 32px;\n",
       "      padding: 0 0 0 0;\n",
       "      width: 32px;\n",
       "    }\n",
       "\n",
       "    .colab-df-convert:hover {\n",
       "      background-color: #E2EBFA;\n",
       "      box-shadow: 0px 1px 2px rgba(60, 64, 67, 0.3), 0px 1px 3px 1px rgba(60, 64, 67, 0.15);\n",
       "      fill: #174EA6;\n",
       "    }\n",
       "\n",
       "    [theme=dark] .colab-df-convert {\n",
       "      background-color: #3B4455;\n",
       "      fill: #D2E3FC;\n",
       "    }\n",
       "\n",
       "    [theme=dark] .colab-df-convert:hover {\n",
       "      background-color: #434B5C;\n",
       "      box-shadow: 0px 1px 3px 1px rgba(0, 0, 0, 0.15);\n",
       "      filter: drop-shadow(0px 1px 2px rgba(0, 0, 0, 0.3));\n",
       "      fill: #FFFFFF;\n",
       "    }\n",
       "  </style>\n",
       "\n",
       "      <script>\n",
       "        const buttonEl =\n",
       "          document.querySelector('#df-00776320-3740-41a3-8501-cad0f082f01f button.colab-df-convert');\n",
       "        buttonEl.style.display =\n",
       "          google.colab.kernel.accessAllowed ? 'block' : 'none';\n",
       "\n",
       "        async function convertToInteractive(key) {\n",
       "          const element = document.querySelector('#df-00776320-3740-41a3-8501-cad0f082f01f');\n",
       "          const dataTable =\n",
       "            await google.colab.kernel.invokeFunction('convertToInteractive',\n",
       "                                                     [key], {});\n",
       "          if (!dataTable) return;\n",
       "\n",
       "          const docLinkHtml = 'Like what you see? Visit the ' +\n",
       "            '<a target=\"_blank\" href=https://colab.research.google.com/notebooks/data_table.ipynb>data table notebook</a>'\n",
       "            + ' to learn more about interactive tables.';\n",
       "          element.innerHTML = '';\n",
       "          dataTable['output_type'] = 'display_data';\n",
       "          await google.colab.output.renderOutput(dataTable, element);\n",
       "          const docLink = document.createElement('div');\n",
       "          docLink.innerHTML = docLinkHtml;\n",
       "          element.appendChild(docLink);\n",
       "        }\n",
       "      </script>\n",
       "    </div>\n",
       "  </div>\n",
       "  "
      ],
      "text/plain": [
       "                      missing_count  missing_percentage\n",
       "car                           12576           99.148534\n",
       "Bar                             107            0.843582\n",
       "CoffeeHouse                     217            1.710817\n",
       "CarryAway                       151            1.190476\n",
       "RestaurantLessThan20            130            1.024913\n",
       "Restaurant20To50                189            1.490066"
      ]
     },
     "execution_count": 12,
     "metadata": {},
     "output_type": "execute_result"
    }
   ],
   "source": [
    "# missing values\n",
    "print('Is there any missing value present or not?',data.isnull().values.any())\n",
    "missing_percentage = data.isnull().sum()*100/len(data)\n",
    "missing_value_df = pd.DataFrame({'missing_count': data.isnull().sum(),'missing_percentage': missing_percentage})\n",
    "missing_value_df[missing_value_df.missing_count != 0]"
   ]
  },
  {
   "cell_type": "markdown",
   "metadata": {
    "id": "MXbxdAUP9Uqq"
   },
   "source": [
    "* Feature 'car' has 99% of the missing value, drop this feature because even after predicting missing values, this feature has less importance, and it has less predictive power."
   ]
  },
  {
   "cell_type": "code",
   "execution_count": null,
   "metadata": {
    "id": "0WVef6J0-hxO"
   },
   "outputs": [],
   "source": [
    "X_train = X_train.drop(['car'], axis=1)\n",
    "X_test = X_test.drop(['car'], axis=1)"
   ]
  },
  {
   "cell_type": "markdown",
   "metadata": {
    "id": "QA-HQzpOAhG5"
   },
   "source": [
    "__Correlation of Features__"
   ]
  },
  {
   "cell_type": "code",
   "execution_count": null,
   "metadata": {
    "colab": {
     "base_uri": "https://localhost:8080/",
     "height": 269
    },
    "id": "EXFzJPH1-h5x",
    "outputId": "1c905a59-b7db-4c21-f2f5-c3317daf48b0"
   },
   "outputs": [
    {
     "data": {
      "text/html": [
       "\n",
       "  <div id=\"df-bd3f140b-0c22-4a53-b9ec-616d4d5461f9\">\n",
       "    <div class=\"colab-df-container\">\n",
       "      <div>\n",
       "<style scoped>\n",
       "    .dataframe tbody tr th:only-of-type {\n",
       "        vertical-align: middle;\n",
       "    }\n",
       "\n",
       "    .dataframe tbody tr th {\n",
       "        vertical-align: top;\n",
       "    }\n",
       "\n",
       "    .dataframe thead th {\n",
       "        text-align: right;\n",
       "    }\n",
       "</style>\n",
       "<table border=\"1\" class=\"dataframe\">\n",
       "  <thead>\n",
       "    <tr style=\"text-align: right;\">\n",
       "      <th></th>\n",
       "      <th>temperature</th>\n",
       "      <th>has_children</th>\n",
       "      <th>toCoupon_GEQ5min</th>\n",
       "      <th>toCoupon_GEQ15min</th>\n",
       "      <th>toCoupon_GEQ25min</th>\n",
       "      <th>direction_same</th>\n",
       "      <th>direction_opp</th>\n",
       "    </tr>\n",
       "  </thead>\n",
       "  <tbody>\n",
       "    <tr>\n",
       "      <th>temperature</th>\n",
       "      <td>1.000000</td>\n",
       "      <td>-0.015811</td>\n",
       "      <td>NaN</td>\n",
       "      <td>-0.153307</td>\n",
       "      <td>-0.221842</td>\n",
       "      <td>0.090960</td>\n",
       "      <td>-0.090960</td>\n",
       "    </tr>\n",
       "    <tr>\n",
       "      <th>has_children</th>\n",
       "      <td>-0.015811</td>\n",
       "      <td>1.000000</td>\n",
       "      <td>NaN</td>\n",
       "      <td>0.087322</td>\n",
       "      <td>-0.008013</td>\n",
       "      <td>-0.030278</td>\n",
       "      <td>0.030278</td>\n",
       "    </tr>\n",
       "    <tr>\n",
       "      <th>toCoupon_GEQ5min</th>\n",
       "      <td>NaN</td>\n",
       "      <td>NaN</td>\n",
       "      <td>NaN</td>\n",
       "      <td>NaN</td>\n",
       "      <td>NaN</td>\n",
       "      <td>NaN</td>\n",
       "      <td>NaN</td>\n",
       "    </tr>\n",
       "    <tr>\n",
       "      <th>toCoupon_GEQ15min</th>\n",
       "      <td>-0.153307</td>\n",
       "      <td>0.087322</td>\n",
       "      <td>NaN</td>\n",
       "      <td>1.000000</td>\n",
       "      <td>0.315623</td>\n",
       "      <td>-0.292891</td>\n",
       "      <td>0.292891</td>\n",
       "    </tr>\n",
       "    <tr>\n",
       "      <th>toCoupon_GEQ25min</th>\n",
       "      <td>-0.221842</td>\n",
       "      <td>-0.008013</td>\n",
       "      <td>NaN</td>\n",
       "      <td>0.315623</td>\n",
       "      <td>1.000000</td>\n",
       "      <td>-0.186257</td>\n",
       "      <td>0.186257</td>\n",
       "    </tr>\n",
       "    <tr>\n",
       "      <th>direction_same</th>\n",
       "      <td>0.090960</td>\n",
       "      <td>-0.030278</td>\n",
       "      <td>NaN</td>\n",
       "      <td>-0.292891</td>\n",
       "      <td>-0.186257</td>\n",
       "      <td>1.000000</td>\n",
       "      <td>-1.000000</td>\n",
       "    </tr>\n",
       "    <tr>\n",
       "      <th>direction_opp</th>\n",
       "      <td>-0.090960</td>\n",
       "      <td>0.030278</td>\n",
       "      <td>NaN</td>\n",
       "      <td>0.292891</td>\n",
       "      <td>0.186257</td>\n",
       "      <td>-1.000000</td>\n",
       "      <td>1.000000</td>\n",
       "    </tr>\n",
       "  </tbody>\n",
       "</table>\n",
       "</div>\n",
       "      <button class=\"colab-df-convert\" onclick=\"convertToInteractive('df-bd3f140b-0c22-4a53-b9ec-616d4d5461f9')\"\n",
       "              title=\"Convert this dataframe to an interactive table.\"\n",
       "              style=\"display:none;\">\n",
       "        \n",
       "  <svg xmlns=\"http://www.w3.org/2000/svg\" height=\"24px\"viewBox=\"0 0 24 24\"\n",
       "       width=\"24px\">\n",
       "    <path d=\"M0 0h24v24H0V0z\" fill=\"none\"/>\n",
       "    <path d=\"M18.56 5.44l.94 2.06.94-2.06 2.06-.94-2.06-.94-.94-2.06-.94 2.06-2.06.94zm-11 1L8.5 8.5l.94-2.06 2.06-.94-2.06-.94L8.5 2.5l-.94 2.06-2.06.94zm10 10l.94 2.06.94-2.06 2.06-.94-2.06-.94-.94-2.06-.94 2.06-2.06.94z\"/><path d=\"M17.41 7.96l-1.37-1.37c-.4-.4-.92-.59-1.43-.59-.52 0-1.04.2-1.43.59L10.3 9.45l-7.72 7.72c-.78.78-.78 2.05 0 2.83L4 21.41c.39.39.9.59 1.41.59.51 0 1.02-.2 1.41-.59l7.78-7.78 2.81-2.81c.8-.78.8-2.07 0-2.86zM5.41 20L4 18.59l7.72-7.72 1.47 1.35L5.41 20z\"/>\n",
       "  </svg>\n",
       "      </button>\n",
       "      \n",
       "  <style>\n",
       "    .colab-df-container {\n",
       "      display:flex;\n",
       "      flex-wrap:wrap;\n",
       "      gap: 12px;\n",
       "    }\n",
       "\n",
       "    .colab-df-convert {\n",
       "      background-color: #E8F0FE;\n",
       "      border: none;\n",
       "      border-radius: 50%;\n",
       "      cursor: pointer;\n",
       "      display: none;\n",
       "      fill: #1967D2;\n",
       "      height: 32px;\n",
       "      padding: 0 0 0 0;\n",
       "      width: 32px;\n",
       "    }\n",
       "\n",
       "    .colab-df-convert:hover {\n",
       "      background-color: #E2EBFA;\n",
       "      box-shadow: 0px 1px 2px rgba(60, 64, 67, 0.3), 0px 1px 3px 1px rgba(60, 64, 67, 0.15);\n",
       "      fill: #174EA6;\n",
       "    }\n",
       "\n",
       "    [theme=dark] .colab-df-convert {\n",
       "      background-color: #3B4455;\n",
       "      fill: #D2E3FC;\n",
       "    }\n",
       "\n",
       "    [theme=dark] .colab-df-convert:hover {\n",
       "      background-color: #434B5C;\n",
       "      box-shadow: 0px 1px 3px 1px rgba(0, 0, 0, 0.15);\n",
       "      filter: drop-shadow(0px 1px 2px rgba(0, 0, 0, 0.3));\n",
       "      fill: #FFFFFF;\n",
       "    }\n",
       "  </style>\n",
       "\n",
       "      <script>\n",
       "        const buttonEl =\n",
       "          document.querySelector('#df-bd3f140b-0c22-4a53-b9ec-616d4d5461f9 button.colab-df-convert');\n",
       "        buttonEl.style.display =\n",
       "          google.colab.kernel.accessAllowed ? 'block' : 'none';\n",
       "\n",
       "        async function convertToInteractive(key) {\n",
       "          const element = document.querySelector('#df-bd3f140b-0c22-4a53-b9ec-616d4d5461f9');\n",
       "          const dataTable =\n",
       "            await google.colab.kernel.invokeFunction('convertToInteractive',\n",
       "                                                     [key], {});\n",
       "          if (!dataTable) return;\n",
       "\n",
       "          const docLinkHtml = 'Like what you see? Visit the ' +\n",
       "            '<a target=\"_blank\" href=https://colab.research.google.com/notebooks/data_table.ipynb>data table notebook</a>'\n",
       "            + ' to learn more about interactive tables.';\n",
       "          element.innerHTML = '';\n",
       "          dataTable['output_type'] = 'display_data';\n",
       "          await google.colab.output.renderOutput(dataTable, element);\n",
       "          const docLink = document.createElement('div');\n",
       "          docLink.innerHTML = docLinkHtml;\n",
       "          element.appendChild(docLink);\n",
       "        }\n",
       "      </script>\n",
       "    </div>\n",
       "  </div>\n",
       "  "
      ],
      "text/plain": [
       "                   temperature  has_children  toCoupon_GEQ5min  \\\n",
       "temperature           1.000000     -0.015811               NaN   \n",
       "has_children         -0.015811      1.000000               NaN   \n",
       "toCoupon_GEQ5min           NaN           NaN               NaN   \n",
       "toCoupon_GEQ15min    -0.153307      0.087322               NaN   \n",
       "toCoupon_GEQ25min    -0.221842     -0.008013               NaN   \n",
       "direction_same        0.090960     -0.030278               NaN   \n",
       "direction_opp        -0.090960      0.030278               NaN   \n",
       "\n",
       "                   toCoupon_GEQ15min  toCoupon_GEQ25min  direction_same  \\\n",
       "temperature                -0.153307          -0.221842        0.090960   \n",
       "has_children                0.087322          -0.008013       -0.030278   \n",
       "toCoupon_GEQ5min                 NaN                NaN             NaN   \n",
       "toCoupon_GEQ15min           1.000000           0.315623       -0.292891   \n",
       "toCoupon_GEQ25min           0.315623           1.000000       -0.186257   \n",
       "direction_same             -0.292891          -0.186257        1.000000   \n",
       "direction_opp               0.292891           0.186257       -1.000000   \n",
       "\n",
       "                   direction_opp  \n",
       "temperature            -0.090960  \n",
       "has_children            0.030278  \n",
       "toCoupon_GEQ5min             NaN  \n",
       "toCoupon_GEQ15min       0.292891  \n",
       "toCoupon_GEQ25min       0.186257  \n",
       "direction_same         -1.000000  \n",
       "direction_opp           1.000000  "
      ]
     },
     "execution_count": 14,
     "metadata": {},
     "output_type": "execute_result"
    }
   ],
   "source": [
    "X_train.corr() #covariance matrix "
   ]
  },
  {
   "cell_type": "markdown",
   "metadata": {
    "id": "JtquVADQ9tj8"
   },
   "source": [
    "1. Feature ‘direction_same’ is perfectly correlated with ‘direction_opp’, both have the same variance.\n",
    "2. ‘toCoupon_GEQ5min’ feature has no correlation with any feature because it has the same value ‘1’ for all data points, which means all the restaurants/bars are at least more than five minutes away from the driver.\n",
    "\n",
    "so, drop both 'direction_opp' and 'toCoupon_GEQ5min' features."
   ]
  },
  {
   "cell_type": "code",
   "execution_count": null,
   "metadata": {
    "colab": {
     "base_uri": "https://localhost:8080/"
    },
    "id": "KWyNzdDJ-h8p",
    "outputId": "0f0fb952-892f-4ac3-9bb9-cc7d1b82a114"
   },
   "outputs": [
    {
     "data": {
      "text/plain": [
       "((8117, 22), (2030, 22))"
      ]
     },
     "execution_count": 15,
     "metadata": {},
     "output_type": "execute_result"
    }
   ],
   "source": [
    "X_train = X_train.drop(['direction_opp','toCoupon_GEQ5min'], axis=1)\n",
    "X_test = X_test.drop(['direction_opp','toCoupon_GEQ5min'], axis=1)\n",
    "X_train.shape, X_test.shape"
   ]
  },
  {
   "cell_type": "code",
   "execution_count": null,
   "metadata": {
    "colab": {
     "base_uri": "https://localhost:8080/",
     "height": 300
    },
    "id": "g2u3UNNFAwIK",
    "outputId": "4bebb961-2909-4411-ce1b-d9a61393a13b"
   },
   "outputs": [
    {
     "data": {
      "text/html": [
       "\n",
       "  <div id=\"df-7ed8a339-9bce-4310-97d4-5a15a750befe\">\n",
       "    <div class=\"colab-df-container\">\n",
       "      <div>\n",
       "<style scoped>\n",
       "    .dataframe tbody tr th:only-of-type {\n",
       "        vertical-align: middle;\n",
       "    }\n",
       "\n",
       "    .dataframe tbody tr th {\n",
       "        vertical-align: top;\n",
       "    }\n",
       "\n",
       "    .dataframe thead th {\n",
       "        text-align: right;\n",
       "    }\n",
       "</style>\n",
       "<table border=\"1\" class=\"dataframe\">\n",
       "  <thead>\n",
       "    <tr style=\"text-align: right;\">\n",
       "      <th></th>\n",
       "      <th>temperature</th>\n",
       "      <th>has_children</th>\n",
       "      <th>toCoupon_GEQ15min</th>\n",
       "      <th>toCoupon_GEQ25min</th>\n",
       "      <th>direction_same</th>\n",
       "    </tr>\n",
       "  </thead>\n",
       "  <tbody>\n",
       "    <tr>\n",
       "      <th>count</th>\n",
       "      <td>8117.000000</td>\n",
       "      <td>8117.000000</td>\n",
       "      <td>8117.000000</td>\n",
       "      <td>8117.000000</td>\n",
       "      <td>8117.000000</td>\n",
       "    </tr>\n",
       "    <tr>\n",
       "      <th>mean</th>\n",
       "      <td>63.235801</td>\n",
       "      <td>0.419860</td>\n",
       "      <td>0.564125</td>\n",
       "      <td>0.114205</td>\n",
       "      <td>0.212024</td>\n",
       "    </tr>\n",
       "    <tr>\n",
       "      <th>std</th>\n",
       "      <td>19.224225</td>\n",
       "      <td>0.493566</td>\n",
       "      <td>0.495902</td>\n",
       "      <td>0.318079</td>\n",
       "      <td>0.408767</td>\n",
       "    </tr>\n",
       "    <tr>\n",
       "      <th>min</th>\n",
       "      <td>30.000000</td>\n",
       "      <td>0.000000</td>\n",
       "      <td>0.000000</td>\n",
       "      <td>0.000000</td>\n",
       "      <td>0.000000</td>\n",
       "    </tr>\n",
       "    <tr>\n",
       "      <th>25%</th>\n",
       "      <td>55.000000</td>\n",
       "      <td>0.000000</td>\n",
       "      <td>0.000000</td>\n",
       "      <td>0.000000</td>\n",
       "      <td>0.000000</td>\n",
       "    </tr>\n",
       "    <tr>\n",
       "      <th>50%</th>\n",
       "      <td>80.000000</td>\n",
       "      <td>0.000000</td>\n",
       "      <td>1.000000</td>\n",
       "      <td>0.000000</td>\n",
       "      <td>0.000000</td>\n",
       "    </tr>\n",
       "    <tr>\n",
       "      <th>75%</th>\n",
       "      <td>80.000000</td>\n",
       "      <td>1.000000</td>\n",
       "      <td>1.000000</td>\n",
       "      <td>0.000000</td>\n",
       "      <td>0.000000</td>\n",
       "    </tr>\n",
       "    <tr>\n",
       "      <th>max</th>\n",
       "      <td>80.000000</td>\n",
       "      <td>1.000000</td>\n",
       "      <td>1.000000</td>\n",
       "      <td>1.000000</td>\n",
       "      <td>1.000000</td>\n",
       "    </tr>\n",
       "  </tbody>\n",
       "</table>\n",
       "</div>\n",
       "      <button class=\"colab-df-convert\" onclick=\"convertToInteractive('df-7ed8a339-9bce-4310-97d4-5a15a750befe')\"\n",
       "              title=\"Convert this dataframe to an interactive table.\"\n",
       "              style=\"display:none;\">\n",
       "        \n",
       "  <svg xmlns=\"http://www.w3.org/2000/svg\" height=\"24px\"viewBox=\"0 0 24 24\"\n",
       "       width=\"24px\">\n",
       "    <path d=\"M0 0h24v24H0V0z\" fill=\"none\"/>\n",
       "    <path d=\"M18.56 5.44l.94 2.06.94-2.06 2.06-.94-2.06-.94-.94-2.06-.94 2.06-2.06.94zm-11 1L8.5 8.5l.94-2.06 2.06-.94-2.06-.94L8.5 2.5l-.94 2.06-2.06.94zm10 10l.94 2.06.94-2.06 2.06-.94-2.06-.94-.94-2.06-.94 2.06-2.06.94z\"/><path d=\"M17.41 7.96l-1.37-1.37c-.4-.4-.92-.59-1.43-.59-.52 0-1.04.2-1.43.59L10.3 9.45l-7.72 7.72c-.78.78-.78 2.05 0 2.83L4 21.41c.39.39.9.59 1.41.59.51 0 1.02-.2 1.41-.59l7.78-7.78 2.81-2.81c.8-.78.8-2.07 0-2.86zM5.41 20L4 18.59l7.72-7.72 1.47 1.35L5.41 20z\"/>\n",
       "  </svg>\n",
       "      </button>\n",
       "      \n",
       "  <style>\n",
       "    .colab-df-container {\n",
       "      display:flex;\n",
       "      flex-wrap:wrap;\n",
       "      gap: 12px;\n",
       "    }\n",
       "\n",
       "    .colab-df-convert {\n",
       "      background-color: #E8F0FE;\n",
       "      border: none;\n",
       "      border-radius: 50%;\n",
       "      cursor: pointer;\n",
       "      display: none;\n",
       "      fill: #1967D2;\n",
       "      height: 32px;\n",
       "      padding: 0 0 0 0;\n",
       "      width: 32px;\n",
       "    }\n",
       "\n",
       "    .colab-df-convert:hover {\n",
       "      background-color: #E2EBFA;\n",
       "      box-shadow: 0px 1px 2px rgba(60, 64, 67, 0.3), 0px 1px 3px 1px rgba(60, 64, 67, 0.15);\n",
       "      fill: #174EA6;\n",
       "    }\n",
       "\n",
       "    [theme=dark] .colab-df-convert {\n",
       "      background-color: #3B4455;\n",
       "      fill: #D2E3FC;\n",
       "    }\n",
       "\n",
       "    [theme=dark] .colab-df-convert:hover {\n",
       "      background-color: #434B5C;\n",
       "      box-shadow: 0px 1px 3px 1px rgba(0, 0, 0, 0.15);\n",
       "      filter: drop-shadow(0px 1px 2px rgba(0, 0, 0, 0.3));\n",
       "      fill: #FFFFFF;\n",
       "    }\n",
       "  </style>\n",
       "\n",
       "      <script>\n",
       "        const buttonEl =\n",
       "          document.querySelector('#df-7ed8a339-9bce-4310-97d4-5a15a750befe button.colab-df-convert');\n",
       "        buttonEl.style.display =\n",
       "          google.colab.kernel.accessAllowed ? 'block' : 'none';\n",
       "\n",
       "        async function convertToInteractive(key) {\n",
       "          const element = document.querySelector('#df-7ed8a339-9bce-4310-97d4-5a15a750befe');\n",
       "          const dataTable =\n",
       "            await google.colab.kernel.invokeFunction('convertToInteractive',\n",
       "                                                     [key], {});\n",
       "          if (!dataTable) return;\n",
       "\n",
       "          const docLinkHtml = 'Like what you see? Visit the ' +\n",
       "            '<a target=\"_blank\" href=https://colab.research.google.com/notebooks/data_table.ipynb>data table notebook</a>'\n",
       "            + ' to learn more about interactive tables.';\n",
       "          element.innerHTML = '';\n",
       "          dataTable['output_type'] = 'display_data';\n",
       "          await google.colab.output.renderOutput(dataTable, element);\n",
       "          const docLink = document.createElement('div');\n",
       "          docLink.innerHTML = docLinkHtml;\n",
       "          element.appendChild(docLink);\n",
       "        }\n",
       "      </script>\n",
       "    </div>\n",
       "  </div>\n",
       "  "
      ],
      "text/plain": [
       "       temperature  has_children  toCoupon_GEQ15min  toCoupon_GEQ25min  \\\n",
       "count  8117.000000   8117.000000        8117.000000        8117.000000   \n",
       "mean     63.235801      0.419860           0.564125           0.114205   \n",
       "std      19.224225      0.493566           0.495902           0.318079   \n",
       "min      30.000000      0.000000           0.000000           0.000000   \n",
       "25%      55.000000      0.000000           0.000000           0.000000   \n",
       "50%      80.000000      0.000000           1.000000           0.000000   \n",
       "75%      80.000000      1.000000           1.000000           0.000000   \n",
       "max      80.000000      1.000000           1.000000           1.000000   \n",
       "\n",
       "       direction_same  \n",
       "count     8117.000000  \n",
       "mean         0.212024  \n",
       "std          0.408767  \n",
       "min          0.000000  \n",
       "25%          0.000000  \n",
       "50%          0.000000  \n",
       "75%          0.000000  \n",
       "max          1.000000  "
      ]
     },
     "execution_count": 16,
     "metadata": {},
     "output_type": "execute_result"
    }
   ],
   "source": [
    "X_train.describe()\n",
    "# data.describe(include='all')"
   ]
  },
  {
   "cell_type": "markdown",
   "metadata": {
    "id": "aPFww2SXENjC"
   },
   "source": [
    "__Analysis of 'direction_same' feature__"
   ]
  },
  {
   "cell_type": "code",
   "execution_count": null,
   "metadata": {
    "colab": {
     "base_uri": "https://localhost:8080/",
     "height": 112
    },
    "id": "LuLdadAQLnJt",
    "outputId": "c4d8df7a-c309-4376-a8ad-451c2e4b254f"
   },
   "outputs": [
    {
     "data": {
      "text/html": [
       "\n",
       "  <div id=\"df-b5b677c8-f22c-48e2-a74c-226af1836e13\">\n",
       "    <div class=\"colab-df-container\">\n",
       "      <div>\n",
       "<style scoped>\n",
       "    .dataframe tbody tr th:only-of-type {\n",
       "        vertical-align: middle;\n",
       "    }\n",
       "\n",
       "    .dataframe tbody tr th {\n",
       "        vertical-align: top;\n",
       "    }\n",
       "\n",
       "    .dataframe thead th {\n",
       "        text-align: right;\n",
       "    }\n",
       "</style>\n",
       "<table border=\"1\" class=\"dataframe\">\n",
       "  <thead>\n",
       "    <tr style=\"text-align: right;\">\n",
       "      <th></th>\n",
       "      <th>direction_same</th>\n",
       "      <th>Total_Count</th>\n",
       "      <th>Total_%</th>\n",
       "      <th>Accepted</th>\n",
       "      <th>Rejected</th>\n",
       "      <th>%Accepted</th>\n",
       "      <th>%Rejected</th>\n",
       "    </tr>\n",
       "  </thead>\n",
       "  <tbody>\n",
       "    <tr>\n",
       "      <th>0</th>\n",
       "      <td>0</td>\n",
       "      <td>9960</td>\n",
       "      <td>78.524</td>\n",
       "      <td>5624</td>\n",
       "      <td>4336</td>\n",
       "      <td>56.466</td>\n",
       "      <td>43.534</td>\n",
       "    </tr>\n",
       "    <tr>\n",
       "      <th>1</th>\n",
       "      <td>1</td>\n",
       "      <td>2724</td>\n",
       "      <td>21.476</td>\n",
       "      <td>1586</td>\n",
       "      <td>1138</td>\n",
       "      <td>58.223</td>\n",
       "      <td>41.777</td>\n",
       "    </tr>\n",
       "  </tbody>\n",
       "</table>\n",
       "</div>\n",
       "      <button class=\"colab-df-convert\" onclick=\"convertToInteractive('df-b5b677c8-f22c-48e2-a74c-226af1836e13')\"\n",
       "              title=\"Convert this dataframe to an interactive table.\"\n",
       "              style=\"display:none;\">\n",
       "        \n",
       "  <svg xmlns=\"http://www.w3.org/2000/svg\" height=\"24px\"viewBox=\"0 0 24 24\"\n",
       "       width=\"24px\">\n",
       "    <path d=\"M0 0h24v24H0V0z\" fill=\"none\"/>\n",
       "    <path d=\"M18.56 5.44l.94 2.06.94-2.06 2.06-.94-2.06-.94-.94-2.06-.94 2.06-2.06.94zm-11 1L8.5 8.5l.94-2.06 2.06-.94-2.06-.94L8.5 2.5l-.94 2.06-2.06.94zm10 10l.94 2.06.94-2.06 2.06-.94-2.06-.94-.94-2.06-.94 2.06-2.06.94z\"/><path d=\"M17.41 7.96l-1.37-1.37c-.4-.4-.92-.59-1.43-.59-.52 0-1.04.2-1.43.59L10.3 9.45l-7.72 7.72c-.78.78-.78 2.05 0 2.83L4 21.41c.39.39.9.59 1.41.59.51 0 1.02-.2 1.41-.59l7.78-7.78 2.81-2.81c.8-.78.8-2.07 0-2.86zM5.41 20L4 18.59l7.72-7.72 1.47 1.35L5.41 20z\"/>\n",
       "  </svg>\n",
       "      </button>\n",
       "      \n",
       "  <style>\n",
       "    .colab-df-container {\n",
       "      display:flex;\n",
       "      flex-wrap:wrap;\n",
       "      gap: 12px;\n",
       "    }\n",
       "\n",
       "    .colab-df-convert {\n",
       "      background-color: #E8F0FE;\n",
       "      border: none;\n",
       "      border-radius: 50%;\n",
       "      cursor: pointer;\n",
       "      display: none;\n",
       "      fill: #1967D2;\n",
       "      height: 32px;\n",
       "      padding: 0 0 0 0;\n",
       "      width: 32px;\n",
       "    }\n",
       "\n",
       "    .colab-df-convert:hover {\n",
       "      background-color: #E2EBFA;\n",
       "      box-shadow: 0px 1px 2px rgba(60, 64, 67, 0.3), 0px 1px 3px 1px rgba(60, 64, 67, 0.15);\n",
       "      fill: #174EA6;\n",
       "    }\n",
       "\n",
       "    [theme=dark] .colab-df-convert {\n",
       "      background-color: #3B4455;\n",
       "      fill: #D2E3FC;\n",
       "    }\n",
       "\n",
       "    [theme=dark] .colab-df-convert:hover {\n",
       "      background-color: #434B5C;\n",
       "      box-shadow: 0px 1px 3px 1px rgba(0, 0, 0, 0.15);\n",
       "      filter: drop-shadow(0px 1px 2px rgba(0, 0, 0, 0.3));\n",
       "      fill: #FFFFFF;\n",
       "    }\n",
       "  </style>\n",
       "\n",
       "      <script>\n",
       "        const buttonEl =\n",
       "          document.querySelector('#df-b5b677c8-f22c-48e2-a74c-226af1836e13 button.colab-df-convert');\n",
       "        buttonEl.style.display =\n",
       "          google.colab.kernel.accessAllowed ? 'block' : 'none';\n",
       "\n",
       "        async function convertToInteractive(key) {\n",
       "          const element = document.querySelector('#df-b5b677c8-f22c-48e2-a74c-226af1836e13');\n",
       "          const dataTable =\n",
       "            await google.colab.kernel.invokeFunction('convertToInteractive',\n",
       "                                                     [key], {});\n",
       "          if (!dataTable) return;\n",
       "\n",
       "          const docLinkHtml = 'Like what you see? Visit the ' +\n",
       "            '<a target=\"_blank\" href=https://colab.research.google.com/notebooks/data_table.ipynb>data table notebook</a>'\n",
       "            + ' to learn more about interactive tables.';\n",
       "          element.innerHTML = '';\n",
       "          dataTable['output_type'] = 'display_data';\n",
       "          await google.colab.output.renderOutput(dataTable, element);\n",
       "          const docLink = document.createElement('div');\n",
       "          docLink.innerHTML = docLinkHtml;\n",
       "          element.appendChild(docLink);\n",
       "        }\n",
       "      </script>\n",
       "    </div>\n",
       "  </div>\n",
       "  "
      ],
      "text/plain": [
       "   direction_same  Total_Count  Total_%  Accepted  Rejected  %Accepted  \\\n",
       "0               0         9960   78.524      5624      4336     56.466   \n",
       "1               1         2724   21.476      1586      1138     58.223   \n",
       "\n",
       "   %Rejected  \n",
       "0     43.534  \n",
       "1     41.777  "
      ]
     },
     "execution_count": 17,
     "metadata": {},
     "output_type": "execute_result"
    }
   ],
   "source": [
    "# Analysis of 'direction_same' feature\n",
    "df = pd.DataFrame(sorted(list(data['direction_same'].unique())),columns=['direction_same'])\n",
    "df['Total_Count'] = list(data.groupby('direction_same').Y.count())\n",
    "df['Total_%'] = round(df['Total_Count']/data['direction_same'].shape[0]*100,3)\n",
    "df['Accepted'] = list(data[data.Y==1].groupby('direction_same').Y.count())\n",
    "df['Rejected'] = list(data[data.Y==0].groupby('direction_same').Y.count())\n",
    "df['%Accepted'] = round(df['Accepted']/df['Total_Count']*100,3)\n",
    "df['%Rejected'] = round(df['Rejected']/df['Total_Count']*100,3)\n",
    "df"
   ]
  },
  {
   "cell_type": "code",
   "execution_count": null,
   "metadata": {
    "id": "D6p1gq1OXq25"
   },
   "outputs": [],
   "source": [
    "# X_train = X_train.drop(['direction_same'], axis=1)\n",
    "# X_test = X_test.drop(['direction_same'], axis=1)\n",
    "# X_train.shape, X_test.shape"
   ]
  },
  {
   "cell_type": "markdown",
   "metadata": {
    "id": "KjfGbD9lXsDK"
   },
   "source": [
    "* direction_same feature has 78% value is '0', and 22% value is '1'. Both value has almost similar acceptance ratio. so this feature not more usefull. So, drop 'direction_same' feature."
   ]
  },
  {
   "cell_type": "markdown",
   "metadata": {
    "id": "MKeTSuCN9d8q"
   },
   "source": [
    "## 1.4 Mode Imputation"
   ]
  },
  {
   "cell_type": "code",
   "execution_count": null,
   "metadata": {
    "id": "26yD4fhupdsu"
   },
   "outputs": [],
   "source": [
    "# frequent_values = []\n",
    "# for i in (X_train.columns.values):\n",
    "#   frequent_values.append(X_train[i].value_counts().sort_values(ascending=False).index[0])\n",
    "\n",
    "# df = pd.DataFrame(frequent_values,columns=['frequent_values'],index=X_train.columns.values)\n",
    "# df.to_csv('/content/drive/MyDrive/Applied AI/CS1/frequent_values.csv')"
   ]
  },
  {
   "cell_type": "code",
   "execution_count": null,
   "metadata": {
    "id": "CX53GIngw4qh"
   },
   "outputs": [],
   "source": [
    "frequent_df = pd.read_csv('/content/drive/MyDrive/Applied AI/CS1/frequent_values.csv',index_col=0)"
   ]
  },
  {
   "cell_type": "code",
   "execution_count": null,
   "metadata": {
    "id": "DAqegDWd-h0H"
   },
   "outputs": [],
   "source": [
    "# mode imputation for missing values in train data\n",
    "X_train['Bar'] = X_train['Bar'].fillna(frequent_df.loc['Bar'][0])\n",
    "X_train['CoffeeHouse'] = X_train['CoffeeHouse'].fillna(frequent_df.loc['CoffeeHouse'][0])\n",
    "X_train['CarryAway'] = X_train['CarryAway'].fillna(frequent_df.loc['CarryAway'][0])\n",
    "X_train['RestaurantLessThan20'] = X_train['RestaurantLessThan20'].fillna(frequent_df.loc['RestaurantLessThan20'][0])\n",
    "X_train['Restaurant20To50'] = X_train['Restaurant20To50'].fillna(frequent_df.loc['Restaurant20To50'][0])"
   ]
  },
  {
   "cell_type": "code",
   "execution_count": null,
   "metadata": {
    "id": "2RCVCJsSqL0_"
   },
   "outputs": [],
   "source": [
    "# mode imputation for missing values in test data\n",
    "X_test['Bar'] = X_test['Bar'].fillna(frequent_df.loc['Bar'][0])\n",
    "X_test['CoffeeHouse'] = X_test['CoffeeHouse'].fillna(frequent_df.loc['CoffeeHouse'][0])\n",
    "X_test['CarryAway'] = X_test['CarryAway'].fillna(frequent_df.loc['CarryAway'][0])\n",
    "X_test['RestaurantLessThan20'] = X_test['RestaurantLessThan20'].fillna(frequent_df.loc['RestaurantLessThan20'][0])\n",
    "X_test['Restaurant20To50'] = X_test['Restaurant20To50'].fillna(frequent_df.loc['Restaurant20To50'][0])"
   ]
  },
  {
   "cell_type": "code",
   "execution_count": null,
   "metadata": {
    "colab": {
     "base_uri": "https://localhost:8080/"
    },
    "id": "62EO0miH-h3F",
    "outputId": "8fb46541-2e30-4d26-b1be-786d3e2d06f1"
   },
   "outputs": [
    {
     "name": "stdout",
     "output_type": "stream",
     "text": [
      "Is there any missing value present in X_train? False\n"
     ]
    }
   ],
   "source": [
    "print('Is there any missing value present in X_train?',X_train.isnull().values.any())"
   ]
  },
  {
   "cell_type": "code",
   "execution_count": null,
   "metadata": {
    "colab": {
     "base_uri": "https://localhost:8080/"
    },
    "id": "a5ATGdxZXq6W",
    "outputId": "af3ad602-813f-42c5-a00e-69bc1ac0957f"
   },
   "outputs": [
    {
     "name": "stdout",
     "output_type": "stream",
     "text": [
      "Is there any missing value present in X_test? False\n"
     ]
    }
   ],
   "source": [
    "print('Is there any missing value present in X_test?',X_test.isnull().values.any())"
   ]
  },
  {
   "cell_type": "markdown",
   "metadata": {
    "id": "HK6osHIvEtFT"
   },
   "source": [
    "## 1.5 Feature Engineering"
   ]
  },
  {
   "cell_type": "markdown",
   "metadata": {
    "id": "12IB0b40mSDb"
   },
   "source": [
    "**FE** -- __to_Coupon__"
   ]
  },
  {
   "cell_type": "code",
   "execution_count": null,
   "metadata": {
    "colab": {
     "base_uri": "https://localhost:8080/"
    },
    "id": "ipUJZhcTaBmw",
    "outputId": "039759c4-2377-455a-8f53-5ef25b8201ad"
   },
   "outputs": [
    {
     "name": "stdout",
     "output_type": "stream",
     "text": [
      "Unique values: [1 0 2]\n",
      "--------------------------------------------------\n"
     ]
    },
    {
     "data": {
      "text/plain": [
       "count    8117.000000\n",
       "mean        0.678329\n",
       "std         0.668329\n",
       "min         0.000000\n",
       "25%         0.000000\n",
       "50%         1.000000\n",
       "75%         1.000000\n",
       "max         2.000000\n",
       "Name: to_Coupon, dtype: float64"
      ]
     },
     "execution_count": 25,
     "metadata": {},
     "output_type": "execute_result"
    }
   ],
   "source": [
    "# FE -- to_Coupon is combination of two features, toCoupon_GEQ15min and toCoupon_GEQ25min\n",
    "to_Coupon = []\n",
    "for i in range(X_train.shape[0]):\n",
    "    if (list(X_train['toCoupon_GEQ15min'])[i] == 0):\n",
    "        to_Coupon.append(0)\n",
    "    elif (list(X_train['toCoupon_GEQ15min'])[i] == 1)and(list(X_train['toCoupon_GEQ25min'])[i] == 0):\n",
    "        to_Coupon.append(1)\n",
    "    else:\n",
    "        to_Coupon.append(2)\n",
    "        \n",
    "X_train['to_Coupon'] = to_Coupon\n",
    "print('Unique values:',X_train['to_Coupon'].unique())\n",
    "print('-'*50)\n",
    "X_train['to_Coupon'].describe()"
   ]
  },
  {
   "cell_type": "code",
   "execution_count": null,
   "metadata": {
    "colab": {
     "base_uri": "https://localhost:8080/"
    },
    "id": "6kv-PGIraBve",
    "outputId": "f7ae8946-6649-475c-e91f-e92be1501bcd"
   },
   "outputs": [
    {
     "name": "stdout",
     "output_type": "stream",
     "text": [
      "Unique values: [1 0 2]\n",
      "--------------------------------------------------\n"
     ]
    },
    {
     "data": {
      "text/plain": [
       "count    2030.000000\n",
       "mean        0.677833\n",
       "std         0.697564\n",
       "min         0.000000\n",
       "25%         0.000000\n",
       "50%         1.000000\n",
       "75%         1.000000\n",
       "max         2.000000\n",
       "Name: to_Coupon, dtype: float64"
      ]
     },
     "execution_count": 26,
     "metadata": {},
     "output_type": "execute_result"
    }
   ],
   "source": [
    "# FE -- to_Coupon is combination of two features, toCoupon_GEQ15min and toCoupon_GEQ25min\n",
    "to_Coupon = []\n",
    "for i in range(X_test.shape[0]):\n",
    "    if (list(X_test['toCoupon_GEQ15min'])[i] == 0):\n",
    "        to_Coupon.append(0)\n",
    "    elif (list(X_test['toCoupon_GEQ15min'])[i] == 1)and(list(X_test['toCoupon_GEQ25min'])[i] == 0):\n",
    "        to_Coupon.append(1)\n",
    "    else:\n",
    "        to_Coupon.append(2)\n",
    "        \n",
    "X_test['to_Coupon'] = to_Coupon\n",
    "print('Unique values:',X_test['to_Coupon'].unique())\n",
    "print('-'*50)\n",
    "X_test['to_Coupon'].describe()"
   ]
  },
  {
   "cell_type": "markdown",
   "metadata": {
    "id": "rP4aZROKVHZl"
   },
   "source": [
    "**FE** -- __coupon_freq__"
   ]
  },
  {
   "cell_type": "code",
   "execution_count": null,
   "metadata": {
    "colab": {
     "base_uri": "https://localhost:8080/"
    },
    "id": "RqzwjvKIaBpc",
    "outputId": "3d5373a1-6cf7-4f74-dd02-a76f7c6abf78"
   },
   "outputs": [
    {
     "name": "stdout",
     "output_type": "stream",
     "text": [
      "Unique values: ['never' '1~3' '4~8' 'less1' 'gt8']\n",
      "--------------------------------------------------\n"
     ]
    },
    {
     "data": {
      "text/plain": [
       "count     8117\n",
       "unique       5\n",
       "top        1~3\n",
       "freq      2504\n",
       "Name: coupon_freq, dtype: object"
      ]
     },
     "execution_count": 27,
     "metadata": {},
     "output_type": "execute_result"
    }
   ],
   "source": [
    "# FE -- coupon_freq is combination of five features, RestaurantLessThan20, CoffeeHouse, CarryAway, Bar, Restaurant20To50\n",
    "coupon_freq = []\n",
    "for i in range(X_train.shape[0]):\n",
    "    if (list(X_train['coupon'])[i] == 'Restaurant(<20)'):\n",
    "        coupon_freq.append(list(X_train['RestaurantLessThan20'])[i])\n",
    "    elif (list(X_train['coupon'])[i] == 'Coffee House'):\n",
    "        coupon_freq.append(list(X_train['CoffeeHouse'])[i])\n",
    "    elif (list(X_train['coupon'])[i] == 'Carry out & Take away'):\n",
    "        coupon_freq.append(list(X_train['CarryAway'])[i])\n",
    "    elif (list(X_train['coupon'])[i] == 'Bar'):\n",
    "        coupon_freq.append(list(X_train['Bar'])[i])\n",
    "    elif (list(X_train['coupon'])[i] == 'Restaurant(20-50)'):\n",
    "        coupon_freq.append(list(X_train['Restaurant20To50'])[i])\n",
    "        \n",
    "X_train['coupon_freq'] = coupon_freq\n",
    "print('Unique values:',X_train['coupon_freq'].unique())\n",
    "print('-'*50)\n",
    "X_train['coupon_freq'].describe()"
   ]
  },
  {
   "cell_type": "code",
   "execution_count": null,
   "metadata": {
    "colab": {
     "base_uri": "https://localhost:8080/"
    },
    "id": "nFzIvdUzl-M_",
    "outputId": "3c9bffc2-534e-4acd-ae78-825af32d9556"
   },
   "outputs": [
    {
     "name": "stdout",
     "output_type": "stream",
     "text": [
      "Unique values: ['never' '4~8' 'gt8' '1~3' 'less1']\n",
      "--------------------------------------------------\n"
     ]
    },
    {
     "data": {
      "text/plain": [
       "count     2030\n",
       "unique       5\n",
       "top        1~3\n",
       "freq       617\n",
       "Name: coupon_freq, dtype: object"
      ]
     },
     "execution_count": 28,
     "metadata": {},
     "output_type": "execute_result"
    }
   ],
   "source": [
    "# FE -- coupon_freq is combination of five features, RestaurantLessThan20, CoffeeHouse, CarryAway, Bar, Restaurant20To50\n",
    "coupon_freq = []\n",
    "for i in range(X_test.shape[0]):\n",
    "    if (list(X_test['coupon'])[i] == 'Restaurant(<20)'):\n",
    "        coupon_freq.append(list(X_test['RestaurantLessThan20'])[i])\n",
    "    elif (list(X_test['coupon'])[i] == 'Coffee House'):\n",
    "        coupon_freq.append(list(X_test['CoffeeHouse'])[i])\n",
    "    elif (list(X_test['coupon'])[i] == 'Carry out & Take away'):\n",
    "        coupon_freq.append(list(X_test['CarryAway'])[i])\n",
    "    elif (list(X_test['coupon'])[i] == 'Bar'):\n",
    "        coupon_freq.append(list(X_test['Bar'])[i])\n",
    "    elif (list(X_test['coupon'])[i] == 'Restaurant(20-50)'):\n",
    "        coupon_freq.append(list(X_test['Restaurant20To50'])[i])\n",
    "        \n",
    "X_test['coupon_freq'] = coupon_freq\n",
    "print('Unique values:',X_test['coupon_freq'].unique()) \n",
    "print('-'*50)\n",
    "X_test['coupon_freq'].describe()"
   ]
  },
  {
   "cell_type": "markdown",
   "metadata": {
    "id": "2T4v-Z3yXTSE"
   },
   "source": [
    "**FE** -- __occupation_class__"
   ]
  },
  {
   "cell_type": "code",
   "execution_count": null,
   "metadata": {
    "colab": {
     "base_uri": "https://localhost:8080/"
    },
    "id": "bM1SL8WxSr00",
    "outputId": "c9bb6e90-3ebf-4b71-a12d-51b1f9ed7c20"
   },
   "outputs": [
    {
     "data": {
      "text/plain": [
       "count           8117\n",
       "unique            25\n",
       "top       Unemployed\n",
       "freq            1172\n",
       "Name: occupation, dtype: object"
      ]
     },
     "execution_count": 29,
     "metadata": {},
     "output_type": "execute_result"
    }
   ],
   "source": [
    "X_train['occupation'].describe()"
   ]
  },
  {
   "cell_type": "code",
   "execution_count": null,
   "metadata": {
    "colab": {
     "base_uri": "https://localhost:8080/"
    },
    "id": "rAFI1at3aBsA",
    "outputId": "b70bf638-48db-44a1-ff07-0a4430fb228d"
   },
   "outputs": [
    {
     "name": "stdout",
     "output_type": "stream",
     "text": [
      "Unique values: ['Low_Acceptance' 'Medium_Acceptance' 'Medium_Low_Acceptance'\n",
      " 'Medium_High_Acceptance' 'High_Acceptance']\n",
      "--------------------------------------------------\n"
     ]
    },
    {
     "data": {
      "text/plain": [
       "count                  8117\n",
       "unique                    5\n",
       "top       Medium_Acceptance\n",
       "freq                   2097\n",
       "Name: occupation_class, dtype: object"
      ]
     },
     "execution_count": 30,
     "metadata": {},
     "output_type": "execute_result"
    }
   ],
   "source": [
    "# occupation feature has 25 no of distinct values, which creates very sparsity in data after Encoding\n",
    "# FE -- occupation_class where categorize all occupation in its suitable class.\n",
    "occupation_dict = {'Healthcare Support':'High_Acceptance','Construction & Extraction':'High_Acceptance','Healthcare Practitioners & Technical':'High_Acceptance',\n",
    "                   'Protective Service':'High_Acceptance','Architecture & Engineering':'High_Acceptance','Production Occupations':'Medium_High_Acceptance',\n",
    "                    'Student':'Medium_High_Acceptance','Office & Administrative Support':'Medium_High_Acceptance','Transportation & Material Moving':'Medium_High_Acceptance',\n",
    "                    'Building & Grounds Cleaning & Maintenance':'Medium_High_Acceptance','Management':'Medium_Acceptance','Food Preparation & Serving Related':'Medium_Acceptance',\n",
    "                   'Life Physical Social Science':'Medium_Acceptance','Business & Financial':'Medium_Acceptance','Computer & Mathematical':'Medium_Acceptance',\n",
    "                    'Sales & Related':'Medium_Low_Acceptance','Personal Care & Service':'Medium_Low_Acceptance','Unemployed':'Medium_Low_Acceptance',\n",
    "                   'Farming Fishing & Forestry':'Medium_Low_Acceptance','Installation Maintenance & Repair':'Medium_Low_Acceptance','Education&Training&Library':'Low_Acceptance',\n",
    "                    'Arts Design Entertainment Sports & Media':'Low_Acceptance','Community & Social Services':'Low_Acceptance','Legal':'Low_Acceptance','Retired':'Low_Acceptance'}\n",
    "# occupation_dict\n",
    "X_train['occupation_class'] = X_train['occupation'].map(occupation_dict)\n",
    "print('Unique values:',X_train['occupation_class'].unique())\n",
    "print('-'*50)\n",
    "X_train['occupation_class'].describe()\n",
    "# X_train['occupation_class'].value_counts()"
   ]
  },
  {
   "cell_type": "code",
   "execution_count": null,
   "metadata": {
    "colab": {
     "base_uri": "https://localhost:8080/"
    },
    "id": "rrou1R2Dl-P-",
    "outputId": "9f5e96b4-3e5a-434b-d8eb-a619b643fd39"
   },
   "outputs": [
    {
     "data": {
      "text/plain": [
       "count           2030\n",
       "unique            25\n",
       "top       Unemployed\n",
       "freq             317\n",
       "Name: occupation, dtype: object"
      ]
     },
     "execution_count": 31,
     "metadata": {},
     "output_type": "execute_result"
    }
   ],
   "source": [
    "X_test['occupation'].describe()"
   ]
  },
  {
   "cell_type": "code",
   "execution_count": null,
   "metadata": {
    "colab": {
     "base_uri": "https://localhost:8080/"
    },
    "id": "aItYErJgl-T8",
    "outputId": "f474d440-ca24-47af-8930-908cdf8bc68e"
   },
   "outputs": [
    {
     "name": "stdout",
     "output_type": "stream",
     "text": [
      "Unique values: ['Medium_Low_Acceptance' 'Medium_Acceptance' 'Low_Acceptance'\n",
      " 'Medium_High_Acceptance' 'High_Acceptance']\n",
      "--------------------------------------------------\n"
     ]
    },
    {
     "data": {
      "text/plain": [
       "count                      2030\n",
       "unique                        5\n",
       "top       Medium_Low_Acceptance\n",
       "freq                        551\n",
       "Name: occupation_class, dtype: object"
      ]
     },
     "execution_count": 32,
     "metadata": {},
     "output_type": "execute_result"
    }
   ],
   "source": [
    "# occupation feature has 25 no of distinct values, which creates very sparsity in data after Encoding\n",
    "# FE -- occupation_class where categorize all occupation in its suitable class.\n",
    "occupation_dict = {'Healthcare Support':'High_Acceptance','Construction & Extraction':'High_Acceptance','Healthcare Practitioners & Technical':'High_Acceptance',\n",
    "                   'Protective Service':'High_Acceptance','Architecture & Engineering':'High_Acceptance','Production Occupations':'Medium_High_Acceptance',\n",
    "                    'Student':'Medium_High_Acceptance','Office & Administrative Support':'Medium_High_Acceptance','Transportation & Material Moving':'Medium_High_Acceptance',\n",
    "                    'Building & Grounds Cleaning & Maintenance':'Medium_High_Acceptance','Management':'Medium_Acceptance','Food Preparation & Serving Related':'Medium_Acceptance',\n",
    "                   'Life Physical Social Science':'Medium_Acceptance','Business & Financial':'Medium_Acceptance','Computer & Mathematical':'Medium_Acceptance',\n",
    "                    'Sales & Related':'Medium_Low_Acceptance','Personal Care & Service':'Medium_Low_Acceptance','Unemployed':'Medium_Low_Acceptance',\n",
    "                   'Farming Fishing & Forestry':'Medium_Low_Acceptance','Installation Maintenance & Repair':'Medium_Low_Acceptance','Education&Training&Library':'Low_Acceptance',\n",
    "                    'Arts Design Entertainment Sports & Media':'Low_Acceptance','Community & Social Services':'Low_Acceptance','Legal':'Low_Acceptance','Retired':'Low_Acceptance'}\n",
    "# occupation_dict\n",
    "X_test['occupation_class'] = X_test['occupation'].map(occupation_dict)\n",
    "print('Unique values:',X_test['occupation_class'].unique())\n",
    "print('-'*50)\n",
    "X_test['occupation_class'].describe()\n",
    "# X_test['occupation_class'].value_counts()"
   ]
  },
  {
   "cell_type": "code",
   "execution_count": null,
   "metadata": {
    "colab": {
     "base_uri": "https://localhost:8080/"
    },
    "id": "ATu1wzxdQcBJ",
    "outputId": "723fb6c7-02ce-4cb6-80ea-7f821810d831"
   },
   "outputs": [
    {
     "name": "stdout",
     "output_type": "stream",
     "text": [
      "X_train: (8117, 24) \n",
      "X_test: (2030, 24)\n",
      "--------------------------------------------------\n",
      "['destination' 'passanger' 'weather' 'temperature' 'time' 'coupon'\n",
      " 'expiration' 'gender' 'age' 'maritalStatus' 'has_children' 'education'\n",
      " 'income' 'Bar' 'CoffeeHouse' 'CarryAway' 'RestaurantLessThan20'\n",
      " 'Restaurant20To50' 'toCoupon_GEQ15min' 'toCoupon_GEQ25min'\n",
      " 'direction_same' 'to_Coupon' 'coupon_freq' 'occupation_class']\n"
     ]
    }
   ],
   "source": [
    "# After Feature Engineering, removing unwanted features\n",
    "X_train = X_train.drop(['occupation'], axis=1)\n",
    "X_test = X_test.drop(['occupation'], axis=1)\n",
    "print('X_train:',X_train.shape,'\\nX_test:',X_test.shape)\n",
    "print('-'*50)\n",
    "print(X_train.columns.values)"
   ]
  },
  {
   "cell_type": "code",
   "execution_count": null,
   "metadata": {
    "colab": {
     "base_uri": "https://localhost:8080/"
    },
    "id": "nHN-vOLLAwOK",
    "outputId": "c393f5e2-4c75-46fd-c764-0c70b368ef37"
   },
   "outputs": [
    {
     "data": {
      "text/plain": [
       "array(['destination', 'passanger', 'weather', 'temperature', 'time',\n",
       "       'coupon', 'expiration', 'gender', 'age', 'maritalStatus',\n",
       "       'has_children', 'education', 'income', 'Bar', 'CoffeeHouse',\n",
       "       'CarryAway', 'RestaurantLessThan20', 'Restaurant20To50',\n",
       "       'toCoupon_GEQ15min', 'toCoupon_GEQ25min', 'direction_same',\n",
       "       'to_Coupon', 'coupon_freq', 'occupation_class'], dtype=object)"
      ]
     },
     "execution_count": 34,
     "metadata": {},
     "output_type": "execute_result"
    }
   ],
   "source": [
    "X_train.columns.values"
   ]
  },
  {
   "cell_type": "markdown",
   "metadata": {
    "id": "uBjjSt9qExoV"
   },
   "source": [
    "## 1.6 Ordinal Encoding"
   ]
  },
  {
   "cell_type": "code",
   "execution_count": null,
   "metadata": {
    "id": "4pcLv1wwfZnJ"
   },
   "outputs": [],
   "source": [
    "order = [['Work','Home','No Urgent Place'],['Kid(s)','Alone','Partner','Friend(s)'],['Rainy','Snowy','Sunny'],[30,55,80],['7AM','10AM','2PM','6PM','10PM'],\n",
    "         ['Bar','Restaurant(20-50)','Coffee House','Restaurant(<20)','Carry out & Take away'],['2h','1d'],['Female','Male'],['below21','21','26','31','36','41','46','50plus'],\n",
    "         ['Widowed','Divorced','Married partner','Unmarried partner','Single'],[0,1],\n",
    "         ['Some High School','High School Graduate','Some college - no degree','Associates degree','Bachelors degree','Graduate degree (Masters or Doctorate)'],\n",
    "         ['Less than $12500','$12500 - $24999','$25000 - $37499','$37500 - $49999','$50000 - $62499','$62500 - $74999','$75000 - $87499','$87500 - $99999','$100000 or More'],\n",
    "         ['never','less1','1~3','4~8','gt8'],['never','less1','1~3','4~8','gt8'],['never','less1','1~3','4~8','gt8'],['never','less1','1~3','4~8','gt8'],['never','less1','1~3','4~8','gt8'],\n",
    "         [0,1],[0,1],[0,1],[0,1,2],['never','less1','1~3','4~8','gt8'],['Low_Acceptance','Medium_Low_Acceptance','Medium_Acceptance','Medium_High_Acceptance','High_Acceptance']]"
   ]
  },
  {
   "cell_type": "code",
   "execution_count": null,
   "metadata": {
    "id": "Uij65nQoFSdL"
   },
   "outputs": [],
   "source": [
    "Ordinal_enc = OrdinalEncoder(categories=order)\n",
    "# save trained model\n",
    "# pickle.dump(Ordinal_enc, open(\"/content/drive/MyDrive/Applied AI/CS1/Ordinal_enc.pkl\", \"wb\"))"
   ]
  },
  {
   "cell_type": "code",
   "execution_count": null,
   "metadata": {
    "colab": {
     "base_uri": "https://localhost:8080/"
    },
    "id": "nTvrKyskKa2z",
    "outputId": "20594dc7-a073-492e-c0c1-ada0f2eb0642"
   },
   "outputs": [
    {
     "name": "stdout",
     "output_type": "stream",
     "text": [
      "X_train_Ordinal_encoding: (8117, 24)\n"
     ]
    }
   ],
   "source": [
    "Ordinal_enc = OrdinalEncoder(categories=order)\n",
    "X_train_Ordinal_encoding = Ordinal_enc.fit_transform(X_train)\n",
    "X_train_Ordinal_encoding = pd.DataFrame(X_train_Ordinal_encoding,columns=X_train.columns.values)\n",
    "print('X_train_Ordinal_encoding:',X_train_Ordinal_encoding.shape)"
   ]
  },
  {
   "cell_type": "code",
   "execution_count": null,
   "metadata": {
    "colab": {
     "base_uri": "https://localhost:8080/"
    },
    "id": "3kgOCE88Kor_",
    "outputId": "ba40028c-26b1-4304-8477-15909960b890"
   },
   "outputs": [
    {
     "name": "stdout",
     "output_type": "stream",
     "text": [
      "X_test_Ordinal_encoding: (2030, 24)\n"
     ]
    }
   ],
   "source": [
    "Ordinal_enc = OrdinalEncoder(categories=order)\n",
    "X_test_Ordinal_encoding = Ordinal_enc.fit_transform(X_test)\n",
    "X_test_Ordinal_encoding = pd.DataFrame(X_test_Ordinal_encoding,columns=X_test.columns.values)\n",
    "print('X_test_Ordinal_encoding:',X_test_Ordinal_encoding.shape)"
   ]
  },
  {
   "cell_type": "markdown",
   "metadata": {
    "id": "hxok8PjUbVG_"
   },
   "source": [
    "## 1.7 Stacking Classifier Model"
   ]
  },
  {
   "cell_type": "code",
   "execution_count": null,
   "metadata": {
    "id": "eyLUQRmpsa6l"
   },
   "outputs": [],
   "source": [
    "estimators = [('GNB', GaussianNB()),\n",
    "                ('LR', LogisticRegression(random_state=42,C=100)),\n",
    "                ('KNN', KNeighborsClassifier(n_neighbors=21)),\n",
    "                ('DT', DecisionTreeClassifier(class_weight='balanced', max_depth=10, min_samples_split=100, random_state=42)),\n",
    "                ('LSVC',LinearSVC(C=1,random_state=42)),\n",
    "                ('SVC', SVC(C=10,kernel='rbf',class_weight='balanced',probability=True)),\n",
    "                ('GBC',GradientBoostingClassifier(n_estimators=500, learning_rate=1.0,max_depth=5, random_state=42)),\n",
    "                ('RF',RandomForestClassifier(n_estimators=2000,criterion='gini',max_depth=20,max_features='log2',min_samples_leaf=3, random_state=42, n_jobs=-1)),\n",
    "                ('HGB', HistGradientBoostingClassifier()),\n",
    "                ('BC',BaggingClassifier(base_estimator=DecisionTreeClassifier(),n_estimators=2000,random_state=42)),\n",
    "                ('ABC',AdaBoostClassifier(base_estimator=DecisionTreeClassifier(),n_estimators=1000,learning_rate=0.1,random_state=42)),\n",
    "                ('ETC',ExtraTreesClassifier(n_estimators=500, random_state=42)),\n",
    "                ('XGB', xgb.XGBClassifier(max_depth=10, n_estimators=500, random_state=42))]\n",
    "\n",
    "Stacking_model = StackingClassifier(estimators=estimators, final_estimator=LogisticRegression())\n",
    "Stacking_model.fit(X_train_Ordinal_encoding, y_train)\n",
    "\n",
    "Train_loss = log_loss(y_train,Stacking_model.predict_proba(X_train_Ordinal_encoding))\n",
    "Train_AUC = roc_auc_score(y_train,(Stacking_model.predict_proba(X_train_Ordinal_encoding))[:,1])\n",
    "Test_loss = log_loss(y_test,Stacking_model.predict_proba(X_test_Ordinal_encoding))\n",
    "Test_AUC = roc_auc_score(y_test,(Stacking_model.predict_proba(X_test_Ordinal_encoding))[:,1])"
   ]
  },
  {
   "cell_type": "code",
   "execution_count": null,
   "metadata": {
    "colab": {
     "base_uri": "https://localhost:8080/",
     "height": 81
    },
    "id": "Vj_nFpMPxdVi",
    "outputId": "6430d68a-5629-4a48-c92d-1e30f1f700ac"
   },
   "outputs": [
    {
     "data": {
      "text/html": [
       "\n",
       "  <div id=\"df-2876742b-2b3c-4d83-bd09-a32f35d0cb49\">\n",
       "    <div class=\"colab-df-container\">\n",
       "      <div>\n",
       "<style scoped>\n",
       "    .dataframe tbody tr th:only-of-type {\n",
       "        vertical-align: middle;\n",
       "    }\n",
       "\n",
       "    .dataframe tbody tr th {\n",
       "        vertical-align: top;\n",
       "    }\n",
       "\n",
       "    .dataframe thead th {\n",
       "        text-align: right;\n",
       "    }\n",
       "</style>\n",
       "<table border=\"1\" class=\"dataframe\">\n",
       "  <thead>\n",
       "    <tr style=\"text-align: right;\">\n",
       "      <th></th>\n",
       "      <th>Model</th>\n",
       "      <th>Encoding</th>\n",
       "      <th>Train_log_loss</th>\n",
       "      <th>Train_roc_auc_score</th>\n",
       "      <th>Test_log_loss</th>\n",
       "      <th>Test_roc_auc_score</th>\n",
       "    </tr>\n",
       "  </thead>\n",
       "  <tbody>\n",
       "    <tr>\n",
       "      <th>0</th>\n",
       "      <td>Stacking Classifier</td>\n",
       "      <td>Ordinal Encoding</td>\n",
       "      <td>0.167</td>\n",
       "      <td>1.0</td>\n",
       "      <td>0.506</td>\n",
       "      <td>0.829</td>\n",
       "    </tr>\n",
       "  </tbody>\n",
       "</table>\n",
       "</div>\n",
       "      <button class=\"colab-df-convert\" onclick=\"convertToInteractive('df-2876742b-2b3c-4d83-bd09-a32f35d0cb49')\"\n",
       "              title=\"Convert this dataframe to an interactive table.\"\n",
       "              style=\"display:none;\">\n",
       "        \n",
       "  <svg xmlns=\"http://www.w3.org/2000/svg\" height=\"24px\"viewBox=\"0 0 24 24\"\n",
       "       width=\"24px\">\n",
       "    <path d=\"M0 0h24v24H0V0z\" fill=\"none\"/>\n",
       "    <path d=\"M18.56 5.44l.94 2.06.94-2.06 2.06-.94-2.06-.94-.94-2.06-.94 2.06-2.06.94zm-11 1L8.5 8.5l.94-2.06 2.06-.94-2.06-.94L8.5 2.5l-.94 2.06-2.06.94zm10 10l.94 2.06.94-2.06 2.06-.94-2.06-.94-.94-2.06-.94 2.06-2.06.94z\"/><path d=\"M17.41 7.96l-1.37-1.37c-.4-.4-.92-.59-1.43-.59-.52 0-1.04.2-1.43.59L10.3 9.45l-7.72 7.72c-.78.78-.78 2.05 0 2.83L4 21.41c.39.39.9.59 1.41.59.51 0 1.02-.2 1.41-.59l7.78-7.78 2.81-2.81c.8-.78.8-2.07 0-2.86zM5.41 20L4 18.59l7.72-7.72 1.47 1.35L5.41 20z\"/>\n",
       "  </svg>\n",
       "      </button>\n",
       "      \n",
       "  <style>\n",
       "    .colab-df-container {\n",
       "      display:flex;\n",
       "      flex-wrap:wrap;\n",
       "      gap: 12px;\n",
       "    }\n",
       "\n",
       "    .colab-df-convert {\n",
       "      background-color: #E8F0FE;\n",
       "      border: none;\n",
       "      border-radius: 50%;\n",
       "      cursor: pointer;\n",
       "      display: none;\n",
       "      fill: #1967D2;\n",
       "      height: 32px;\n",
       "      padding: 0 0 0 0;\n",
       "      width: 32px;\n",
       "    }\n",
       "\n",
       "    .colab-df-convert:hover {\n",
       "      background-color: #E2EBFA;\n",
       "      box-shadow: 0px 1px 2px rgba(60, 64, 67, 0.3), 0px 1px 3px 1px rgba(60, 64, 67, 0.15);\n",
       "      fill: #174EA6;\n",
       "    }\n",
       "\n",
       "    [theme=dark] .colab-df-convert {\n",
       "      background-color: #3B4455;\n",
       "      fill: #D2E3FC;\n",
       "    }\n",
       "\n",
       "    [theme=dark] .colab-df-convert:hover {\n",
       "      background-color: #434B5C;\n",
       "      box-shadow: 0px 1px 3px 1px rgba(0, 0, 0, 0.15);\n",
       "      filter: drop-shadow(0px 1px 2px rgba(0, 0, 0, 0.3));\n",
       "      fill: #FFFFFF;\n",
       "    }\n",
       "  </style>\n",
       "\n",
       "      <script>\n",
       "        const buttonEl =\n",
       "          document.querySelector('#df-2876742b-2b3c-4d83-bd09-a32f35d0cb49 button.colab-df-convert');\n",
       "        buttonEl.style.display =\n",
       "          google.colab.kernel.accessAllowed ? 'block' : 'none';\n",
       "\n",
       "        async function convertToInteractive(key) {\n",
       "          const element = document.querySelector('#df-2876742b-2b3c-4d83-bd09-a32f35d0cb49');\n",
       "          const dataTable =\n",
       "            await google.colab.kernel.invokeFunction('convertToInteractive',\n",
       "                                                     [key], {});\n",
       "          if (!dataTable) return;\n",
       "\n",
       "          const docLinkHtml = 'Like what you see? Visit the ' +\n",
       "            '<a target=\"_blank\" href=https://colab.research.google.com/notebooks/data_table.ipynb>data table notebook</a>'\n",
       "            + ' to learn more about interactive tables.';\n",
       "          element.innerHTML = '';\n",
       "          dataTable['output_type'] = 'display_data';\n",
       "          await google.colab.output.renderOutput(dataTable, element);\n",
       "          const docLink = document.createElement('div');\n",
       "          docLink.innerHTML = docLinkHtml;\n",
       "          element.appendChild(docLink);\n",
       "        }\n",
       "      </script>\n",
       "    </div>\n",
       "  </div>\n",
       "  "
      ],
      "text/plain": [
       "                 Model          Encoding  Train_log_loss  Train_roc_auc_score  \\\n",
       "0  Stacking Classifier  Ordinal Encoding           0.167                  1.0   \n",
       "\n",
       "   Test_log_loss  Test_roc_auc_score  \n",
       "0          0.506               0.829  "
      ]
     },
     "execution_count": 42,
     "metadata": {},
     "output_type": "execute_result"
    }
   ],
   "source": [
    "summary_table = PrettyTable([\"Model\",\"Encoding\", \"Train_log_loss\", \"Train_roc_auc_score\", \"Test_log_loss\", \"Test_roc_auc_score\"]) #heading\n",
    "summary_table.add_row([\"Stacking Classifier\",\"Ordinal Encoding\",round(Train_loss,3),round(Train_AUC,3),round(Test_loss,3),round(Test_AUC,3)])\n",
    "table = pd.read_html(summary_table.get_html_string())\n",
    "Stacking_Classifier_Result = table[0]\n",
    "Stacking_Classifier_Result"
   ]
  },
  {
   "cell_type": "code",
   "execution_count": null,
   "metadata": {
    "id": "o8mUR06MnTBG"
   },
   "outputs": [],
   "source": [
    "# # save trained model\n",
    "# pickle.dump(Stacking_model, open(\"/content/drive/MyDrive/Applied AI/CS1/Stacking_model.pkl\", \"wb\"))\n",
    "# Stacking_model = pickle.load(open(\"/content/drive/MyDrive/Applied AI/CS1/Stacking_model.pkl\", \"rb\"))"
   ]
  },
  {
   "cell_type": "markdown",
   "metadata": {
    "id": "pW5yZKL2n1zi"
   },
   "source": [
    "## 1.8 Data Pipeline"
   ]
  },
  {
   "cell_type": "code",
   "execution_count": null,
   "metadata": {
    "id": "OZlrGEP2n4hP"
   },
   "outputs": [],
   "source": [
    "def final_1(X,model):\n",
    "  # print(X.shape)\n",
    "  X = X.drop(['car','direction_opp','toCoupon_GEQ5min'], axis=1)\n",
    "  # print(X.shape)\n",
    "\n",
    "  # print('Is there any missing value present in data point?',X.isnull().values.any())\n",
    "  # mode imputation for missing values in data point\n",
    "  frequent_df = pd.read_csv('/content/drive/MyDrive/Applied AI/CS1/frequent_values.csv',index_col=0)\n",
    "  for i in (X.columns.values):\n",
    "    if (X[i].isnull().values.any()):\n",
    "      X[i] = X[i].fillna(frequent_df.loc[i][0])\n",
    "  # print('Is there any missing value present in data point?',X.isnull().values.any())\n",
    "  # print(X.shape)\n",
    "\n",
    "  # FE\n",
    "  if (list(X['toCoupon_GEQ15min'])[0] == 0):\n",
    "    X['to_Coupon'] = 0\n",
    "  elif (list(X['toCoupon_GEQ15min'])[0] == 1)and(list(X['toCoupon_GEQ25min'])[0] == 0):\n",
    "    X['to_Coupon'] = 1\n",
    "  else:\n",
    "    X['to_Coupon'] = 2\n",
    "  # print(X['to_Coupon'])\n",
    "\n",
    "  if (list(X['coupon'])[0] == 'Restaurant(<20)'):\n",
    "        X['coupon_freq'] = (list(X['RestaurantLessThan20'])[0])\n",
    "  elif (list(X['coupon'])[0] == 'Coffee House'):\n",
    "        X['coupon_freq'] = (list(X['CoffeeHouse'])[0])\n",
    "  elif (list(X['coupon'])[0] == 'Carry out & Take away'):\n",
    "        X['coupon_freq'] = (list(X['CarryAway'])[0])\n",
    "  elif (list(X['coupon'])[0] == 'Bar'):\n",
    "        X['coupon_freq'] = (list(X['Bar'])[0])\n",
    "  elif (list(X['coupon'])[0] == 'Restaurant(20-50)'):\n",
    "        X['coupon_freq'] = (list(X['Restaurant20To50'])[0])\n",
    "  # print(X['coupon_freq'])\n",
    "\n",
    "  occupation_dict = {'Healthcare Support':'High_Acceptance','Construction & Extraction':'High_Acceptance','Healthcare Practitioners & Technical':'High_Acceptance',\n",
    "                   'Protective Service':'High_Acceptance','Architecture & Engineering':'High_Acceptance','Production Occupations':'Medium_High_Acceptance',\n",
    "                    'Student':'Medium_High_Acceptance','Office & Administrative Support':'Medium_High_Acceptance','Transportation & Material Moving':'Medium_High_Acceptance',\n",
    "                    'Building & Grounds Cleaning & Maintenance':'Medium_High_Acceptance','Management':'Medium_Acceptance','Food Preparation & Serving Related':'Medium_Acceptance',\n",
    "                   'Life Physical Social Science':'Medium_Acceptance','Business & Financial':'Medium_Acceptance','Computer & Mathematical':'Medium_Acceptance',\n",
    "                    'Sales & Related':'Medium_Low_Acceptance','Personal Care & Service':'Medium_Low_Acceptance','Unemployed':'Medium_Low_Acceptance',\n",
    "                   'Farming Fishing & Forestry':'Medium_Low_Acceptance','Installation Maintenance & Repair':'Medium_Low_Acceptance','Education&Training&Library':'Low_Acceptance',\n",
    "                    'Arts Design Entertainment Sports & Media':'Low_Acceptance','Community & Social Services':'Low_Acceptance','Legal':'Low_Acceptance','Retired':'Low_Acceptance'}\n",
    "  X['occupation_class'] = X['occupation'].map(occupation_dict)\n",
    "  # print(X['occupation_class'])\n",
    "\n",
    "  # print(X.shape)\n",
    "  \n",
    "  X = X.drop(['occupation'], axis=1)\n",
    "  # print(X.shape)\n",
    "\n",
    "  order = [['Work','Home','No Urgent Place'],['Kid(s)','Alone','Partner','Friend(s)'],['Rainy','Snowy','Sunny'],[30,55,80],['7AM','10AM','2PM','6PM','10PM'],\n",
    "         ['Bar','Restaurant(20-50)','Coffee House','Restaurant(<20)','Carry out & Take away'],['2h','1d'],['Female','Male'],['below21','21','26','31','36','41','46','50plus'],\n",
    "         ['Widowed','Divorced','Married partner','Unmarried partner','Single'],[0,1],\n",
    "         ['Some High School','High School Graduate','Some college - no degree','Associates degree','Bachelors degree','Graduate degree (Masters or Doctorate)'],\n",
    "         ['Less than $12500','$12500 - $24999','$25000 - $37499','$37500 - $49999','$50000 - $62499','$62500 - $74999','$75000 - $87499','$87500 - $99999','$100000 or More'],\n",
    "         ['never','less1','1~3','4~8','gt8'],['never','less1','1~3','4~8','gt8'],['never','less1','1~3','4~8','gt8'],['never','less1','1~3','4~8','gt8'],['never','less1','1~3','4~8','gt8'],\n",
    "         [0,1],[0,1],[0,1],[0,1,2],['never','less1','1~3','4~8','gt8'],['Low_Acceptance','Medium_Low_Acceptance','Medium_Acceptance','Medium_High_Acceptance','High_Acceptance']]\n",
    "  Ordinal_enc = OrdinalEncoder(categories=order)\n",
    "  # Ordinal_enc = pickle.load(open(\"/content/drive/MyDrive/Applied AI/CS1/Ordinal_enc.pkl\", \"rb\"))\n",
    "  X_Ordinal_encoding = Ordinal_enc.fit_transform(X)\n",
    "  X_Ordinal_encoding = pd.DataFrame(X_Ordinal_encoding,columns=X.columns.values)\n",
    "  # print(X_Ordinal_encoding.shape)\n",
    "  # print(X_Ordinal_encoding.head())\n",
    "\n",
    "  # load trained model\n",
    "  # model = pickle.load(open(\"/content/drive/MyDrive/Applied AI/CS1/Stacking_model.pkl\", \"rb\"))\n",
    "  y_pred = model.predict(X_Ordinal_encoding)\n",
    "  y_pred_prob = model.predict_proba(X_Ordinal_encoding)\n",
    "  # print('Predicted output:',y_pred[0])\n",
    "\n",
    "  return y_pred[0], y_pred_prob[0], X, X_Ordinal_encoding\n",
    "\n",
    "# Predicted_output, Predicted_prob, X, X_OE = final_1(X_datapoint,Stacking_model)\n",
    "# print('Predicted output for given datapoint is',Predicted_output)\n",
    "# print('Predicted probability for given datapoint is',Predicted_prob)"
   ]
  },
  {
   "cell_type": "code",
   "execution_count": null,
   "metadata": {
    "colab": {
     "base_uri": "https://localhost:8080/"
    },
    "id": "ERXOsrG09In3",
    "outputId": "0a03ad7d-78a3-4dc1-f5b8-cab205987b9f"
   },
   "outputs": [
    {
     "name": "stderr",
     "output_type": "stream",
     "text": [
      "100%|██████████| 2537/2537 [1:04:49<00:00,  1.53s/it]"
     ]
    },
    {
     "name": "stdout",
     "output_type": "stream",
     "text": [
      "Test log loss: 0.49827510470969233 \n",
      "Test AUC Score: 0.8311331927371295\n"
     ]
    },
    {
     "name": "stderr",
     "output_type": "stream",
     "text": [
      "\n"
     ]
    }
   ],
   "source": [
    "from sklearn.metrics import log_loss,roc_auc_score\n",
    "def final_2(X_set,y_set,model):\n",
    "  Y_predict = []\n",
    "  Y_predict_prob = []\n",
    "  X_data = []\n",
    "  X_OE_data = []\n",
    "  for i in tqdm(range(X_set.shape[0])):\n",
    "    df = pd.DataFrame([(X_set.iloc[i]).values],columns=(X_set.iloc[i]).index)\n",
    "    y_pred, y_pred_prob, X, X_OE = final_1(df,model)\n",
    "    Y_predict.append(y_pred)\n",
    "    Y_predict_prob.append(y_pred_prob)\n",
    "    X_data.append(np.array(X.iloc[0]))\n",
    "    X_OE_data.append(np.array(X_OE.iloc[0]))\n",
    "  # print(len(Y_predict)) # 2537\n",
    "  \n",
    "  logloss = log_loss(y_set,np.array(Y_predict_prob))\n",
    "  AUC_Score = roc_auc_score(y_set,np.array(Y_predict_prob)[:,1])\n",
    "  X_data = pd.DataFrame(X_data,columns=X.columns.values)\n",
    "  X_OE_data = pd.DataFrame(X_OE_data,columns=X_OE.columns.values)\n",
    "  \n",
    "  return logloss, AUC_Score, np.array(Y_predict), X_data, X_OE_data\n",
    "\n",
    "# logloss, AUC_Score, Y_predict, X_data, X_OE_data = final_2(X_PTA.head(3),y_PTA[:3],Stacking_model)\n",
    "\n",
    "logloss, AUC_Score, Y_predict, X_data, X_OE_data = final_2(X_PTA,y_PTA,Stacking_model)\n",
    "print('\\nTest log loss:',logloss,'\\nTest AUC Score:',AUC_Score)\n",
    "# print(Y_predict.shape, X_data.shape, X_OE_data.shape)"
   ]
  },
  {
   "cell_type": "code",
   "execution_count": null,
   "metadata": {
    "colab": {
     "base_uri": "https://localhost:8080/"
    },
    "id": "5yxAji5r1i0s",
    "outputId": "d646842c-ba0a-4389-99e1-0c7562212d30"
   },
   "outputs": [
    {
     "name": "stdout",
     "output_type": "stream",
     "text": [
      "(1209, 27) (735, 27) (360, 27) (233, 27)\n"
     ]
    },
    {
     "data": {
      "text/plain": [
       "array([[ 735,  360],\n",
       "       [ 233, 1209]])"
      ]
     },
     "execution_count": 65,
     "metadata": {},
     "output_type": "execute_result"
    }
   ],
   "source": [
    "X_data['Y'] = y_PTA\n",
    "X_data['Y_predict'] = Y_predict\n",
    "\n",
    "confusion_matrix = []\n",
    "for i in range(X_data.shape[0]):\n",
    "  if (list(X_data['Y'])[i] == 1) and (list(X_data['Y_predict'])[i] == 1):\n",
    "    confusion_matrix.append('TP')\n",
    "  elif (list(X_data['Y'])[i] == 0) and (list(X_data['Y_predict'])[i] == 0):\n",
    "    confusion_matrix.append('TN')\n",
    "  elif (list(X_data['Y'])[i] == 0) and (list(X_data['Y_predict'])[i] == 1):\n",
    "    confusion_matrix.append('FP')\n",
    "  elif (list(X_data['Y'])[i] == 1) and (list(X_data['Y_predict'])[i] == 0):\n",
    "    confusion_matrix.append('FN')\n",
    "# print(len(confusion_matrix))\n",
    "X_data['confusion_matrix'] = confusion_matrix\n",
    "# print(X_data.shape)\n",
    "\n",
    "X_data_TP = X_data[X_data.confusion_matrix == 'TP']\n",
    "X_data_TN = X_data[X_data.confusion_matrix == 'TN']\n",
    "X_data_FP = X_data[X_data.confusion_matrix == 'FP']\n",
    "X_data_FN = X_data[X_data.confusion_matrix == 'FN']\n",
    "print(X_data_TP.shape, X_data_TN.shape, X_data_FP.shape, X_data_FN.shape)\n",
    "\n",
    "from sklearn.metrics import confusion_matrix\n",
    "confusion_matrix(X_data['Y'], X_data['Y_predict'])"
   ]
  },
  {
   "cell_type": "code",
   "execution_count": null,
   "metadata": {
    "id": "2L9Y0NI_Nr4U"
   },
   "outputs": [],
   "source": [
    "# X_data.to_csv('/content/drive/MyDrive/Applied AI/CS1/X_data_final.csv')"
   ]
  },
  {
   "cell_type": "markdown",
   "metadata": {
    "id": "BzNlXsWC6Sj_"
   },
   "source": [
    "## 1.9 Post Training Analysis"
   ]
  },
  {
   "cell_type": "code",
   "execution_count": null,
   "metadata": {
    "id": "OndAWlwJvCVz"
   },
   "outputs": [],
   "source": [
    "from tabulate import tabulate\n",
    "def post_training_analysis(column_name,data=X_data):\n",
    "    df_EDA = pd.DataFrame(sorted(list(data[column_name].unique())),columns=[column_name])\n",
    "    df_EDA['Total_Count'] = list(data.groupby(column_name).Y.count())\n",
    "    df_EDA['TP'] = df_EDA[column_name].map(data[data.confusion_matrix=='TP'].groupby(column_name).confusion_matrix.count())\n",
    "    df_EDA['TN'] = df_EDA[column_name].map(data[data.confusion_matrix=='TN'].groupby(column_name).confusion_matrix.count())\n",
    "    df_EDA['FP'] = df_EDA[column_name].map(data[data.confusion_matrix=='FP'].groupby(column_name).confusion_matrix.count())\n",
    "    df_EDA['FN'] = df_EDA[column_name].map(data[data.confusion_matrix=='FN'].groupby(column_name).confusion_matrix.count())\n",
    "    df_EDA['%TP'] = round(df_EDA['TP']/df_EDA['Total_Count']*100,3)\n",
    "    df_EDA['%TN'] = round(df_EDA['TN']/df_EDA['Total_Count']*100,3)\n",
    "    df_EDA['%FP'] = round(df_EDA['FP']/df_EDA['Total_Count']*100,3)\n",
    "    df_EDA['%FN'] = round(df_EDA['FN']/df_EDA['Total_Count']*100,3)\n",
    "    df_EDA['Tsum'] = df_EDA['%TP']+df_EDA['%TN']\n",
    "    df_EDA = df_EDA.sort_values(by='Tsum', ascending=False)\n",
    "    df_EDA = df_EDA.drop(['Tsum'],axis=1)\n",
    "\n",
    "    fig,ax = plt.subplots(figsize =(15, 4))\n",
    "    sns.countplot(x=X_data[column_name],hue=X_data['confusion_matrix'])\n",
    "    ax.set_title('Post Training Analysis of '+column_name)\n",
    "    plt.show()\n",
    "    print(tabulate(df_EDA,headers='keys',tablefmt='psql'))\n",
    "    return df_EDA"
   ]
  },
  {
   "cell_type": "code",
   "execution_count": null,
   "metadata": {
    "colab": {
     "base_uri": "https://localhost:8080/",
     "height": 1000
    },
    "id": "0jD8IR5w67Aq",
    "outputId": "494b8cbd-5a09-4da9-d170-fe8946cc623b"
   },
   "outputs": [
    {
     "data": {
      "image/png": "[encoded data removed]",
      "text/plain": [
       "<Figure size 1080x288 with 1 Axes>"
      ]
     },
     "metadata": {},
     "output_type": "display_data"
    },
    {
     "name": "stdout",
     "output_type": "stream",
     "text": [
      "+----+-----------------+---------------+------+------+------+------+--------+--------+--------+--------+\n",
      "|    | destination     |   Total_Count |   TP |   TN |   FP |   FN |    %TP |    %TN |    %FP |    %FN |\n",
      "|----+-----------------+---------------+------+------+------+------+--------+--------+--------+--------|\n",
      "|  1 | No Urgent Place |          1231 |  718 |  254 |  171 |   88 | 58.327 | 20.634 | 13.891 |  7.149 |\n",
      "|  2 | Work            |           638 |  235 |  245 |   92 |   66 | 36.834 | 38.401 | 14.42  | 10.345 |\n",
      "|  0 | Home            |           668 |  256 |  236 |   97 |   79 | 38.323 | 35.329 | 14.521 | 11.826 |\n",
      "+----+-----------------+---------------+------+------+------+------+--------+--------+--------+--------+\n",
      "\n",
      " ******************************************************************************************************************************************************\n"
     ]
    },
    {
     "data": {
      "image/png": "[encoded data removed]",
      "text/plain": [
       "<Figure size 1080x288 with 1 Axes>"
      ]
     },
     "metadata": {},
     "output_type": "display_data"
    },
    {
     "name": "stdout",
     "output_type": "stream",
     "text": [
      "+----+-------------+---------------+------+------+------+------+--------+--------+--------+--------+\n",
      "|    | passanger   |   Total_Count |   TP |   TN |   FP |   FN |    %TP |    %TN |    %FP |    %FN |\n",
      "|----+-------------+---------------+------+------+------+------+--------+--------+--------+--------|\n",
      "|  1 | Friend(s)   |           660 |  426 |  102 |   96 |   36 | 64.545 | 15.455 | 14.545 |  5.455 |\n",
      "|  2 | Kid(s)      |           208 |   84 |   81 |   21 |   22 | 40.385 | 38.942 | 10.096 | 10.577 |\n",
      "|  0 | Alone       |          1461 |  593 |  503 |  210 |  155 | 40.589 | 34.428 | 14.374 | 10.609 |\n",
      "|  3 | Partner     |           208 |  106 |   49 |   33 |   20 | 50.962 | 23.558 | 15.865 |  9.615 |\n",
      "+----+-------------+---------------+------+------+------+------+--------+--------+--------+--------+\n",
      "\n",
      " ******************************************************************************************************************************************************\n"
     ]
    },
    {
     "data": {
      "image/png": "[encoded data removed]",
      "text/plain": [
       "<Figure size 1080x288 with 1 Axes>"
      ]
     },
     "metadata": {},
     "output_type": "display_data"
    },
    {
     "name": "stdout",
     "output_type": "stream",
     "text": [
      "+----+-----------+---------------+------+------+------+------+--------+--------+--------+--------+\n",
      "|    | weather   |   Total_Count |   TP |   TN |   FP |   FN |    %TP |    %TN |    %FP |    %FN |\n",
      "|----+-----------+---------------+------+------+------+------+--------+--------+--------+--------|\n",
      "|  2 | Sunny     |          2016 | 1021 |  530 |  281 |  184 | 50.645 | 26.29  | 13.938 |  9.127 |\n",
      "|  0 | Rainy     |           251 |   82 |  111 |   31 |   27 | 32.669 | 44.223 | 12.351 | 10.757 |\n",
      "|  1 | Snowy     |           270 |  106 |   94 |   48 |   22 | 39.259 | 34.815 | 17.778 |  8.148 |\n",
      "+----+-----------+---------------+------+------+------+------+--------+--------+--------+--------+\n",
      "\n",
      " ******************************************************************************************************************************************************\n"
     ]
    },
    {
     "data": {
      "image/png": "[encoded data removed]",
      "text/plain": [
       "<Figure size 1080x288 with 1 Axes>"
      ]
     },
     "metadata": {},
     "output_type": "display_data"
    },
    {
     "name": "stdout",
     "output_type": "stream",
     "text": [
      "+----+---------------+---------------+------+------+------+------+--------+--------+--------+--------+\n",
      "|    |   temperature |   Total_Count |   TP |   TN |   FP |   FN |    %TP |    %TN |    %FP |    %FN |\n",
      "|----+---------------+---------------+------+------+------+------+--------+--------+--------+--------|\n",
      "|  1 |            55 |           764 |  303 |  295 |  100 |   66 | 39.66  | 38.613 | 13.089 |  8.639 |\n",
      "|  2 |            80 |          1319 |  695 |  309 |  181 |  134 | 52.691 | 23.427 | 13.723 | 10.159 |\n",
      "|  0 |            30 |           454 |  211 |  131 |   79 |   33 | 46.476 | 28.855 | 17.401 |  7.269 |\n",
      "+----+---------------+---------------+------+------+------+------+--------+--------+--------+--------+\n",
      "\n",
      " ******************************************************************************************************************************************************\n"
     ]
    },
    {
     "data": {
      "image/png": "[encoded data removed]",
      "text/plain": [
       "<Figure size 1080x288 with 1 Axes>"
      ]
     },
     "metadata": {},
     "output_type": "display_data"
    },
    {
     "name": "stdout",
     "output_type": "stream",
     "text": [
      "+----+--------+---------------+------+------+------+------+--------+--------+--------+--------+\n",
      "|    | time   |   Total_Count |   TP |   TN |   FP |   FN |    %TP |    %TN |    %FP |    %FN |\n",
      "|----+--------+---------------+------+------+------+------+--------+--------+--------+--------|\n",
      "|  2 | 2PM    |           393 |  241 |   70 |   50 |   32 | 61.323 | 17.812 | 12.723 |  8.142 |\n",
      "|  1 | 10PM   |           414 |  175 |  146 |   53 |   40 | 42.271 | 35.266 | 12.802 |  9.662 |\n",
      "|  0 | 10AM   |           444 |  250 |   94 |   71 |   29 | 56.306 | 21.171 | 15.991 |  6.532 |\n",
      "|  3 | 6PM    |           648 |  308 |  180 |   94 |   66 | 47.531 | 27.778 | 14.506 | 10.185 |\n",
      "|  4 | 7AM    |           638 |  235 |  245 |   92 |   66 | 36.834 | 38.401 | 14.42  | 10.345 |\n",
      "+----+--------+---------------+------+------+------+------+--------+--------+--------+--------+\n",
      "\n",
      " ******************************************************************************************************************************************************\n"
     ]
    },
    {
     "data": {
      "image/png": "[encoded data removed]",
      "text/plain": [
       "<Figure size 1080x288 with 1 Axes>"
      ]
     },
     "metadata": {},
     "output_type": "display_data"
    },
    {
     "name": "stdout",
     "output_type": "stream",
     "text": [
      "+----+-----------------------+---------------+------+------+------+------+--------+--------+--------+--------+\n",
      "|    | coupon                |   Total_Count |   TP |   TN |   FP |   FN |    %TP |    %TN |    %FP |    %FN |\n",
      "|----+-----------------------+---------------+------+------+------+------+--------+--------+--------+--------|\n",
      "|  2 | Coffee House          |           799 |  331 |  296 |  104 |   68 | 41.427 | 37.046 | 13.016 |  8.511 |\n",
      "|  4 | Restaurant(<20)       |           554 |  363 |   70 |   85 |   36 | 65.523 | 12.635 | 15.343 |  6.498 |\n",
      "|  0 | Bar                   |           419 |  114 |  209 |   41 |   55 | 27.208 | 49.881 |  9.785 | 13.126 |\n",
      "|  1 | Carry out & Take away |           472 |  318 |   35 |   94 |   25 | 67.373 |  7.415 | 19.915 |  5.297 |\n",
      "|  3 | Restaurant(20-50)     |           293 |   83 |  125 |   36 |   49 | 28.328 | 42.662 | 12.287 | 16.724 |\n",
      "+----+-----------------------+---------------+------+------+------+------+--------+--------+--------+--------+\n",
      "\n",
      " ******************************************************************************************************************************************************\n"
     ]
    },
    {
     "data": {
      "image/png": "[encoded data removed]",
      "text/plain": [
       "<Figure size 1080x288 with 1 Axes>"
      ]
     },
     "metadata": {},
     "output_type": "display_data"
    },
    {
     "name": "stdout",
     "output_type": "stream",
     "text": [
      "+----+--------------+---------------+------+------+------+------+--------+--------+--------+--------+\n",
      "|    | expiration   |   Total_Count |   TP |   TN |   FP |   FN |    %TP |    %TN |    %FP |    %FN |\n",
      "|----+--------------+---------------+------+------+------+------+--------+--------+--------+--------|\n",
      "|  0 | 1d           |          1435 |  775 |  332 |  210 |  118 | 54.007 | 23.136 | 14.634 |  8.223 |\n",
      "|  1 | 2h           |          1102 |  434 |  403 |  150 |  115 | 39.383 | 36.57  | 13.612 | 10.436 |\n",
      "+----+--------------+---------------+------+------+------+------+--------+--------+--------+--------+\n",
      "\n",
      " ******************************************************************************************************************************************************\n"
     ]
    },
    {
     "data": {
      "image/png": "[encoded data removed]",
      "text/plain": [
       "<Figure size 1080x288 with 1 Axes>"
      ]
     },
     "metadata": {},
     "output_type": "display_data"
    },
    {
     "name": "stdout",
     "output_type": "stream",
     "text": [
      "+----+----------+---------------+------+------+------+------+--------+--------+--------+-------+\n",
      "|    | gender   |   Total_Count |   TP |   TN |   FP |   FN |    %TP |    %TN |    %FP |   %FN |\n",
      "|----+----------+---------------+------+------+------+------+--------+--------+--------+-------|\n",
      "|  0 | Female   |          1261 |  588 |  393 |  154 |  126 | 46.63  | 31.166 | 12.213 | 9.992 |\n",
      "|  1 | Male     |          1276 |  621 |  342 |  206 |  107 | 48.668 | 26.803 | 16.144 | 8.386 |\n",
      "+----+----------+---------------+------+------+------+------+--------+--------+--------+-------+\n",
      "\n",
      " ******************************************************************************************************************************************************\n"
     ]
    },
    {
     "data": {
      "image/png": "[encoded data removed]",
      "text/plain": [
       "<Figure size 1080x288 with 1 Axes>"
      ]
     },
     "metadata": {},
     "output_type": "display_data"
    },
    {
     "name": "stdout",
     "output_type": "stream",
     "text": [
      "+----+---------+---------------+------+------+------+------+--------+--------+--------+--------+\n",
      "|    | age     |   Total_Count |   TP |   TN |   FP |   FN |    %TP |    %TN |    %FP |    %FN |\n",
      "|----+---------+---------------+------+------+------+------+--------+--------+--------+--------|\n",
      "|  3 | 36      |           252 |  121 |   84 |   28 |   19 | 48.016 | 33.333 | 11.111 |  7.54  |\n",
      "|  6 | 50plus  |           351 |  159 |  122 |   48 |   22 | 45.299 | 34.758 | 13.675 |  6.268 |\n",
      "|  1 | 26      |           498 |  256 |  137 |   62 |   43 | 51.406 | 27.51  | 12.45  |  8.635 |\n",
      "|  5 | 46      |           145 |   67 |   47 |   10 |   21 | 46.207 | 32.414 |  6.897 | 14.483 |\n",
      "|  7 | below21 |           125 |   75 |   21 |   21 |    8 | 60     | 16.8   | 16.8   |  6.4   |\n",
      "|  0 | 21      |           560 |  274 |  142 |   93 |   51 | 48.929 | 25.357 | 16.607 |  9.107 |\n",
      "|  2 | 31      |           386 |  166 |  119 |   61 |   40 | 43.005 | 30.829 | 15.803 | 10.363 |\n",
      "|  4 | 41      |           220 |   91 |   63 |   37 |   29 | 41.364 | 28.636 | 16.818 | 13.182 |\n",
      "+----+---------+---------------+------+------+------+------+--------+--------+--------+--------+\n",
      "\n",
      " ******************************************************************************************************************************************************\n"
     ]
    },
    {
     "data": {
      "image/png": "[encoded data removed]",
      "text/plain": [
       "<Figure size 1080x288 with 1 Axes>"
      ]
     },
     "metadata": {},
     "output_type": "display_data"
    },
    {
     "name": "stdout",
     "output_type": "stream",
     "text": [
      "+----+-------------------+---------------+------+------+------+------+--------+--------+--------+---------+\n",
      "|    | maritalStatus     |   Total_Count |   TP |   TN |   FP |   FN |    %TP |    %TN |    %FP |     %FN |\n",
      "|----+-------------------+---------------+------+------+------+------+--------+--------+--------+---------|\n",
      "|  4 | Widowed           |            20 |    9 |   10 |    1 |  nan | 45     | 50     |  5     | nan     |\n",
      "|  0 | Divorced          |            87 |   45 |   25 |    9 |    8 | 51.724 | 28.736 | 10.345 |   9.195 |\n",
      "|  2 | Single            |           973 |  511 |  236 |  141 |   85 | 52.518 | 24.255 | 14.491 |   8.736 |\n",
      "|  1 | Married partner   |          1018 |  444 |  331 |  146 |   97 | 43.615 | 32.515 | 14.342 |   9.528 |\n",
      "|  3 | Unmarried partner |           439 |  200 |  133 |   63 |   43 | 45.558 | 30.296 | 14.351 |   9.795 |\n",
      "+----+-------------------+---------------+------+------+------+------+--------+--------+--------+---------+\n",
      "\n",
      " ******************************************************************************************************************************************************\n"
     ]
    },
    {
     "data": {
      "image/png": "[encoded data removed]",
      "text/plain": [
       "<Figure size 1080x288 with 1 Axes>"
      ]
     },
     "metadata": {},
     "output_type": "display_data"
    },
    {
     "name": "stdout",
     "output_type": "stream",
     "text": [
      "+----+----------------+---------------+------+------+------+------+--------+--------+--------+-------+\n",
      "|    |   has_children |   Total_Count |   TP |   TN |   FP |   FN |    %TP |    %TN |    %FP |   %FN |\n",
      "|----+----------------+---------------+------+------+------+------+--------+--------+--------+-------|\n",
      "|  1 |              1 |          1005 |  444 |  341 |  132 |   88 | 44.179 | 33.93  | 13.134 | 8.756 |\n",
      "|  0 |              0 |          1532 |  765 |  394 |  228 |  145 | 49.935 | 25.718 | 14.883 | 9.465 |\n",
      "+----+----------------+---------------+------+------+------+------+--------+--------+--------+-------+\n",
      "\n",
      " ******************************************************************************************************************************************************\n"
     ]
    },
    {
     "data": {
      "image/png": "[encoded data removed]",
      "text/plain": [
       "<Figure size 1080x288 with 1 Axes>"
      ]
     },
     "metadata": {},
     "output_type": "display_data"
    },
    {
     "name": "stdout",
     "output_type": "stream",
     "text": [
      "+----+----------------------------------------+---------------+------+------+------+------+--------+--------+--------+--------+\n",
      "|    | education                              |   Total_Count |   TP |   TN |   FP |   FN |    %TP |    %TN |    %FP |    %FN |\n",
      "|----+----------------------------------------+---------------+------+------+------+------+--------+--------+--------+--------|\n",
      "|  3 | High School Graduate                   |           184 |   84 |   62 |   25 |   13 | 45.652 | 33.696 | 13.587 |  7.065 |\n",
      "|  5 | Some college - no degree               |           865 |  446 |  225 |  125 |   69 | 51.561 | 26.012 | 14.451 |  7.977 |\n",
      "|  1 | Bachelors degree                       |           900 |  419 |  272 |  124 |   85 | 46.556 | 30.222 | 13.778 |  9.444 |\n",
      "|  0 | Associates degree                      |           227 |   97 |   76 |   31 |   23 | 42.731 | 33.48  | 13.656 | 10.132 |\n",
      "|  4 | Some High School                       |            16 |   10 |    2 |    2 |    2 | 62.5   | 12.5   | 12.5   | 12.5   |\n",
      "|  2 | Graduate degree (Masters or Doctorate) |           345 |  153 |   98 |   53 |   41 | 44.348 | 28.406 | 15.362 | 11.884 |\n",
      "+----+----------------------------------------+---------------+------+------+------+------+--------+--------+--------+--------+\n",
      "\n",
      " ******************************************************************************************************************************************************\n"
     ]
    },
    {
     "data": {
      "image/png": "[encoded data removed]",
      "text/plain": [
       "<Figure size 1080x288 with 1 Axes>"
      ]
     },
     "metadata": {},
     "output_type": "display_data"
    },
    {
     "name": "stdout",
     "output_type": "stream",
     "text": [
      "+----+------------------+---------------+------+------+------+------+--------+--------+--------+--------+\n",
      "|    | income           |   Total_Count |   TP |   TN |   FP |   FN |    %TP |    %TN |    %FP |    %FN |\n",
      "|----+------------------+---------------+------+------+------+------+--------+--------+--------+--------|\n",
      "|  1 | $12500 - $24999  |           372 |  187 |  110 |   43 |   32 | 50.269 | 29.57  | 11.559 |  8.602 |\n",
      "|  2 | $25000 - $37499  |           428 |  225 |  111 |   57 |   35 | 52.57  | 25.935 | 13.318 |  8.178 |\n",
      "|  3 | $37500 - $49999  |           347 |  172 |   99 |   40 |   36 | 49.568 | 28.53  | 11.527 | 10.375 |\n",
      "|  5 | $62500 - $74999  |           160 |   76 |   48 |   24 |   12 | 47.5   | 30     | 15     |  7.5   |\n",
      "|  7 | $87500 - $99999  |           193 |   80 |   68 |   31 |   14 | 41.451 | 35.233 | 16.062 |  7.254 |\n",
      "|  8 | Less than $12500 |           204 |  101 |   54 |   35 |   14 | 49.51  | 26.471 | 17.157 |  6.863 |\n",
      "|  0 | $100000 or More  |           321 |  143 |   97 |   46 |   35 | 44.548 | 30.218 | 14.33  | 10.903 |\n",
      "|  4 | $50000 - $62499  |           334 |  157 |   90 |   48 |   39 | 47.006 | 26.946 | 14.371 | 11.677 |\n",
      "|  6 | $75000 - $87499  |           178 |   68 |   58 |   36 |   16 | 38.202 | 32.584 | 20.225 |  8.989 |\n",
      "+----+------------------+---------------+------+------+------+------+--------+--------+--------+--------+\n",
      "\n",
      " ******************************************************************************************************************************************************\n"
     ]
    },
    {
     "data": {
      "image/png": "[encoded data removed]",
      "text/plain": [
       "<Figure size 1080x288 with 1 Axes>"
      ]
     },
     "metadata": {},
     "output_type": "display_data"
    },
    {
     "name": "stdout",
     "output_type": "stream",
     "text": [
      "+----+-------+---------------+------+------+------+------+--------+--------+--------+--------+\n",
      "|    | Bar   |   Total_Count |   TP |   TN |   FP |   FN |    %TP |    %TN |    %FP |    %FN |\n",
      "|----+-------+---------------+------+------+------+------+--------+--------+--------+--------|\n",
      "|  2 | gt8   |            72 |   41 |   23 |    7 |    1 | 56.944 | 31.944 |  9.722 |  1.389 |\n",
      "|  4 | never |          1069 |  472 |  371 |  135 |   91 | 44.153 | 34.705 | 12.629 |  8.513 |\n",
      "|  1 | 4~8   |           213 |  117 |   44 |   40 |   12 | 54.93  | 20.657 | 18.779 |  5.634 |\n",
      "|  3 | less1 |           689 |  319 |  194 |  106 |   70 | 46.299 | 28.157 | 15.385 | 10.16  |\n",
      "|  0 | 1~3   |           494 |  260 |  103 |   72 |   59 | 52.632 | 20.85  | 14.575 | 11.943 |\n",
      "+----+-------+---------------+------+------+------+------+--------+--------+--------+--------+\n",
      "\n",
      " ******************************************************************************************************************************************************\n"
     ]
    },
    {
     "data": {
      "image/png": "[encoded data removed]",
      "text/plain": [
       "<Figure size 1080x288 with 1 Axes>"
      ]
     },
     "metadata": {},
     "output_type": "display_data"
    },
    {
     "name": "stdout",
     "output_type": "stream",
     "text": [
      "+----+---------------+---------------+------+------+------+------+--------+--------+--------+--------+\n",
      "|    | CoffeeHouse   |   Total_Count |   TP |   TN |   FP |   FN |    %TP |    %TN |    %FP |    %FN |\n",
      "|----+---------------+---------------+------+------+------+------+--------+--------+--------+--------|\n",
      "|  2 | gt8           |           215 |  111 |   65 |   23 |   16 | 51.628 | 30.233 | 10.698 |  7.442 |\n",
      "|  4 | never         |           547 |  192 |  232 |   66 |   57 | 35.101 | 42.413 | 12.066 | 10.42  |\n",
      "|  0 | 1~3           |           675 |  382 |  133 |  102 |   58 | 56.593 | 19.704 | 15.111 |  8.593 |\n",
      "|  1 | 4~8           |           390 |  215 |   82 |   60 |   33 | 55.128 | 21.026 | 15.385 |  8.462 |\n",
      "|  3 | less1         |           710 |  309 |  223 |  109 |   69 | 43.521 | 31.408 | 15.352 |  9.718 |\n",
      "+----+---------------+---------------+------+------+------+------+--------+--------+--------+--------+\n",
      "\n",
      " ******************************************************************************************************************************************************\n"
     ]
    },
    {
     "data": {
      "image/png": "[encoded data removed]",
      "text/plain": [
       "<Figure size 1080x288 with 1 Axes>"
      ]
     },
     "metadata": {},
     "output_type": "display_data"
    },
    {
     "name": "stdout",
     "output_type": "stream",
     "text": [
      "+----+-------------+---------------+------+------+------+------+--------+--------+--------+--------+\n",
      "|    | CarryAway   |   Total_Count |   TP |   TN |   FP |   FN |    %TP |    %TN |    %FP |    %FN |\n",
      "|----+-------------+---------------+------+------+------+------+--------+--------+--------+--------|\n",
      "|  1 | 4~8         |           849 |  433 |  233 |  112 |   71 | 51.001 | 27.444 | 13.192 |  8.363 |\n",
      "|  2 | gt8         |           313 |  160 |   82 |   41 |   30 | 51.118 | 26.198 | 13.099 |  9.585 |\n",
      "|  0 | 1~3         |           950 |  459 |  266 |  148 |   77 | 48.316 | 28     | 15.579 |  8.105 |\n",
      "|  4 | never       |            41 |   16 |   15 |    2 |    8 | 39.024 | 36.585 |  4.878 | 19.512 |\n",
      "|  3 | less1       |           384 |  141 |  139 |   57 |   47 | 36.719 | 36.198 | 14.844 | 12.24  |\n",
      "+----+-------------+---------------+------+------+------+------+--------+--------+--------+--------+\n",
      "\n",
      " ******************************************************************************************************************************************************\n"
     ]
    },
    {
     "data": {
      "image/png": "[encoded data removed]",
      "text/plain": [
       "<Figure size 1080x288 with 1 Axes>"
      ]
     },
     "metadata": {},
     "output_type": "display_data"
    },
    {
     "name": "stdout",
     "output_type": "stream",
     "text": [
      "+----+------------------------+---------------+------+------+------+------+--------+--------+--------+--------+\n",
      "|    | RestaurantLessThan20   |   Total_Count |   TP |   TN |   FP |   FN |    %TP |    %TN |    %FP |    %FN |\n",
      "|----+------------------------+---------------+------+------+------+------+--------+--------+--------+--------|\n",
      "|  2 | gt8                    |           254 |  142 |   66 |   25 |   21 | 55.906 | 25.984 |  9.843 |  8.268 |\n",
      "|  4 | never                  |            54 |   22 |   20 |    8 |    4 | 40.741 | 37.037 | 14.815 |  7.407 |\n",
      "|  1 | 4~8                    |           710 |  351 |  194 |  101 |   64 | 49.437 | 27.324 | 14.225 |  9.014 |\n",
      "|  3 | less1                  |           425 |  174 |  150 |   57 |   44 | 40.941 | 35.294 | 13.412 | 10.353 |\n",
      "|  0 | 1~3                    |          1094 |  520 |  305 |  169 |  100 | 47.532 | 27.879 | 15.448 |  9.141 |\n",
      "+----+------------------------+---------------+------+------+------+------+--------+--------+--------+--------+\n",
      "\n",
      " ******************************************************************************************************************************************************\n"
     ]
    },
    {
     "data": {
      "image/png": "[encoded data removed]",
      "text/plain": [
       "<Figure size 1080x288 with 1 Axes>"
      ]
     },
     "metadata": {},
     "output_type": "display_data"
    },
    {
     "name": "stdout",
     "output_type": "stream",
     "text": [
      "+----+--------------------+---------------+------+------+------+------+--------+--------+--------+--------+\n",
      "|    | Restaurant20To50   |   Total_Count |   TP |   TN |   FP |   FN |    %TP |    %TN |    %FP |    %FN |\n",
      "|----+--------------------+---------------+------+------+------+------+--------+--------+--------+--------|\n",
      "|  2 | gt8                |            51 |   31 |   12 |    4 |    4 | 60.784 | 23.529 |  7.843 |  7.843 |\n",
      "|  0 | 1~3                |           654 |  327 |  180 |   86 |   61 | 50     | 27.523 | 13.15  |  9.327 |\n",
      "|  3 | less1              |          1247 |  603 |  353 |  188 |  103 | 48.356 | 28.308 | 15.076 |  8.26  |\n",
      "|  1 | 4~8                |           146 |   83 |   27 |   22 |   14 | 56.849 | 18.493 | 15.068 |  9.589 |\n",
      "|  4 | never              |           439 |  165 |  163 |   60 |   51 | 37.585 | 37.13  | 13.667 | 11.617 |\n",
      "+----+--------------------+---------------+------+------+------+------+--------+--------+--------+--------+\n",
      "\n",
      " ******************************************************************************************************************************************************\n"
     ]
    },
    {
     "data": {
      "image/png": "[encoded data removed]",
      "text/plain": [
       "<Figure size 1080x288 with 1 Axes>"
      ]
     },
     "metadata": {},
     "output_type": "display_data"
    },
    {
     "name": "stdout",
     "output_type": "stream",
     "text": [
      "+----+---------------------+---------------+------+------+------+------+--------+--------+--------+-------+\n",
      "|    |   toCoupon_GEQ15min |   Total_Count |   TP |   TN |   FP |   FN |    %TP |    %TN |    %FP |   %FN |\n",
      "|----+---------------------+---------------+------+------+------+------+--------+--------+--------+-------|\n",
      "|  1 |                   1 |          1439 |  636 |  469 |  210 |  124 | 44.197 | 32.592 | 14.593 | 8.617 |\n",
      "|  0 |                   0 |          1098 |  573 |  266 |  150 |  109 | 52.186 | 24.226 | 13.661 | 9.927 |\n",
      "+----+---------------------+---------------+------+------+------+------+--------+--------+--------+-------+\n",
      "\n",
      " ******************************************************************************************************************************************************\n"
     ]
    },
    {
     "data": {
      "image/png": "[encoded data removed]",
      "text/plain": [
       "<Figure size 1080x288 with 1 Axes>"
      ]
     },
     "metadata": {},
     "output_type": "display_data"
    },
    {
     "name": "stdout",
     "output_type": "stream",
     "text": [
      "+----+---------------------+---------------+------+------+------+------+--------+--------+--------+-------+\n",
      "|    |   toCoupon_GEQ25min |   Total_Count |   TP |   TN |   FP |   FN |    %TP |    %TN |    %FP |   %FN |\n",
      "|----+---------------------+---------------+------+------+------+------+--------+--------+--------+-------|\n",
      "|  1 |                   1 |           312 |  100 |  144 |   37 |   31 | 32.051 | 46.154 | 11.859 | 9.936 |\n",
      "|  0 |                   0 |          2225 | 1109 |  591 |  323 |  202 | 49.843 | 26.562 | 14.517 | 9.079 |\n",
      "+----+---------------------+---------------+------+------+------+------+--------+--------+--------+-------+\n",
      "\n",
      " ******************************************************************************************************************************************************\n"
     ]
    },
    {
     "data": {
      "image/png": "[encoded data removed]",
      "text/plain": [
       "<Figure size 1080x288 with 1 Axes>"
      ]
     },
     "metadata": {},
     "output_type": "display_data"
    },
    {
     "name": "stdout",
     "output_type": "stream",
     "text": [
      "+----+------------------+---------------+------+------+------+------+--------+--------+--------+--------+\n",
      "|    |   direction_same |   Total_Count |   TP |   TN |   FP |   FN |    %TP |    %TN |    %FP |    %FN |\n",
      "|----+------------------+---------------+------+------+------+------+--------+--------+--------+--------|\n",
      "|  0 |                0 |          1963 |  940 |  584 |  274 |  165 | 47.886 | 29.75  | 13.958 |  8.406 |\n",
      "|  1 |                1 |           574 |  269 |  151 |   86 |   68 | 46.864 | 26.307 | 14.983 | 11.847 |\n",
      "+----+------------------+---------------+------+------+------+------+--------+--------+--------+--------+\n",
      "\n",
      " ******************************************************************************************************************************************************\n"
     ]
    },
    {
     "data": {
      "image/png": "[encoded data removed]",
      "text/plain": [
       "<Figure size 1080x288 with 1 Axes>"
      ]
     },
     "metadata": {},
     "output_type": "display_data"
    },
    {
     "name": "stdout",
     "output_type": "stream",
     "text": [
      "+----+-------------+---------------+------+------+------+------+--------+--------+--------+-------+\n",
      "|    |   to_Coupon |   Total_Count |   TP |   TN |   FP |   FN |    %TP |    %TN |    %FP |   %FN |\n",
      "|----+-------------+---------------+------+------+------+------+--------+--------+--------+-------|\n",
      "|  2 |           2 |           312 |  100 |  144 |   37 |   31 | 32.051 | 46.154 | 11.859 | 9.936 |\n",
      "|  0 |           0 |          1098 |  573 |  266 |  150 |  109 | 52.186 | 24.226 | 13.661 | 9.927 |\n",
      "|  1 |           1 |          1127 |  536 |  325 |  173 |   93 | 47.56  | 28.838 | 15.35  | 8.252 |\n",
      "+----+-------------+---------------+------+------+------+------+--------+--------+--------+-------+\n",
      "\n",
      " ******************************************************************************************************************************************************\n"
     ]
    },
    {
     "data": {
      "image/png": "[encoded data removed]",
      "text/plain": [
       "<Figure size 1080x288 with 1 Axes>"
      ]
     },
     "metadata": {},
     "output_type": "display_data"
    },
    {
     "name": "stdout",
     "output_type": "stream",
     "text": [
      "+----+---------------+---------------+------+------+------+------+--------+--------+--------+--------+\n",
      "|    | coupon_freq   |   Total_Count |   TP |   TN |   FP |   FN |    %TP |    %TN |    %FP |    %FN |\n",
      "|----+---------------+---------------+------+------+------+------+--------+--------+--------+--------|\n",
      "|  2 | gt8           |           221 |  163 |   27 |   22 |    9 | 73.756 | 12.217 |  9.955 |  4.072 |\n",
      "|  4 | never         |           407 |   28 |  303 |   22 |   54 |  6.88  | 74.447 |  5.405 | 13.268 |\n",
      "|  1 | 4~8           |           510 |  341 |   55 |   79 |   35 | 66.863 | 10.784 | 15.49  |  6.863 |\n",
      "|  0 | 1~3           |           771 |  454 |  120 |  149 |   48 | 58.885 | 15.564 | 19.326 |  6.226 |\n",
      "|  3 | less1         |           628 |  223 |  230 |   88 |   87 | 35.51  | 36.624 | 14.013 | 13.854 |\n",
      "+----+---------------+---------------+------+------+------+------+--------+--------+--------+--------+\n",
      "\n",
      " ******************************************************************************************************************************************************\n"
     ]
    },
    {
     "data": {
      "image/png": "[encoded data removed]",
      "text/plain": [
       "<Figure size 1080x288 with 1 Axes>"
      ]
     },
     "metadata": {},
     "output_type": "display_data"
    },
    {
     "name": "stdout",
     "output_type": "stream",
     "text": [
      "+----+------------------------+---------------+------+------+------+------+--------+--------+--------+--------+\n",
      "|    | occupation_class       |   Total_Count |   TP |   TN |   FP |   FN |    %TP |    %TN |    %FP |    %FN |\n",
      "|----+------------------------+---------------+------+------+------+------+--------+--------+--------+--------|\n",
      "|  0 | High_Acceptance        |           193 |  116 |   46 |   24 |    7 | 60.104 | 23.834 | 12.435 |  3.627 |\n",
      "|  1 | Low_Acceptance         |           518 |  220 |  189 |   64 |   45 | 42.471 | 36.486 | 12.355 |  8.687 |\n",
      "|  4 | Medium_Low_Acceptance  |           680 |  314 |  207 |   93 |   66 | 46.176 | 30.441 | 13.676 |  9.706 |\n",
      "|  3 | Medium_High_Acceptance |           511 |  273 |  112 |   87 |   39 | 53.425 | 21.918 | 17.025 |  7.632 |\n",
      "|  2 | Medium_Acceptance      |           635 |  286 |  181 |   92 |   76 | 45.039 | 28.504 | 14.488 | 11.969 |\n",
      "+----+------------------------+---------------+------+------+------+------+--------+--------+--------+--------+\n",
      "\n",
      " ******************************************************************************************************************************************************\n"
     ]
    },
    {
     "data": {
      "image/png": "[encoded data removed]",
      "text/plain": [
       "<Figure size 1080x288 with 1 Axes>"
      ]
     },
     "metadata": {},
     "output_type": "display_data"
    },
    {
     "name": "stdout",
     "output_type": "stream",
     "text": [
      "+----+-----+---------------+------+------+------+------+---------+---------+---------+---------+\n",
      "|    |   Y |   Total_Count |   TP |   TN |   FP |   FN |     %TP |     %TN |     %FP |     %FN |\n",
      "|----+-----+---------------+------+------+------+------+---------+---------+---------+---------|\n",
      "|  0 |   0 |          1095 |  nan |  735 |  360 |  nan | nan     |  67.123 |  32.877 | nan     |\n",
      "|  1 |   1 |          1442 | 1209 |  nan |  nan |  233 |  83.842 | nan     | nan     |  16.158 |\n",
      "+----+-----+---------------+------+------+------+------+---------+---------+---------+---------+\n",
      "\n",
      " ******************************************************************************************************************************************************\n"
     ]
    },
    {
     "data": {
      "image/png": "[encoded data removed]",
      "text/plain": [
       "<Figure size 1080x288 with 1 Axes>"
      ]
     },
     "metadata": {},
     "output_type": "display_data"
    },
    {
     "name": "stdout",
     "output_type": "stream",
     "text": [
      "+----+-------------+---------------+------+------+------+------+---------+--------+---------+--------+\n",
      "|    |   Y_predict |   Total_Count |   TP |   TN |   FP |   FN |     %TP |    %TN |     %FP |    %FN |\n",
      "|----+-------------+---------------+------+------+------+------+---------+--------+---------+--------|\n",
      "|  0 |           0 |           968 |  nan |  735 |  nan |  233 | nan     |  75.93 | nan     |  24.07 |\n",
      "|  1 |           1 |          1569 | 1209 |  nan |  360 |  nan |  77.055 | nan    |  22.945 | nan    |\n",
      "+----+-------------+---------------+------+------+------+------+---------+--------+---------+--------+\n",
      "\n",
      " ******************************************************************************************************************************************************\n"
     ]
    },
    {
     "data": {
      "image/png": "[encoded data removed]",
      "text/plain": [
       "<Figure size 1080x288 with 1 Axes>"
      ]
     },
     "metadata": {},
     "output_type": "display_data"
    },
    {
     "name": "stdout",
     "output_type": "stream",
     "text": [
      "+----+--------------------+---------------+------+------+------+------+-------+-------+-------+-------+\n",
      "|    | confusion_matrix   |   Total_Count |   TP |   TN |   FP |   FN |   %TP |   %TN |   %FP |   %FN |\n",
      "|----+--------------------+---------------+------+------+------+------+-------+-------+-------+-------|\n",
      "|  0 | FN                 |           233 |  nan |  nan |  nan |  233 |   nan |   nan |   nan |   100 |\n",
      "|  1 | FP                 |           360 |  nan |  nan |  360 |  nan |   nan |   nan |   100 |   nan |\n",
      "|  2 | TN                 |           735 |  nan |  735 |  nan |  nan |   nan |   100 |   nan |   nan |\n",
      "|  3 | TP                 |          1209 | 1209 |  nan |  nan |  nan |   100 |   nan |   nan |   nan |\n",
      "+----+--------------------+---------------+------+------+------+------+-------+-------+-------+-------+\n",
      "\n",
      " ******************************************************************************************************************************************************\n"
     ]
    }
   ],
   "source": [
    "for col in X_data.columns.values:\n",
    "  post_training_analysis(col)\n",
    "  print('\\n','*'*150)"
   ]
  },
  {
   "cell_type": "markdown",
   "metadata": {
    "id": "U6Fezz0WX4zu"
   },
   "source": [
    "__Observations:__\n",
    "* From 2537 data points, 593 data points are incorrectly classified which means approx 23% of data points are wrong predicted. From that, approx 14% of data points are False Positive and approx 9% of data points are False Negative.\n",
    "* The data points that have the highest True Positives have also the chance of highest False Positives and those data points that have the lowest True Negative have also the chance of lowest False Negatives.\n",
    "* The false-positive rate is high when data points are for inactive or not engaged users, like, when a destination is No Urgent Place, when a passenger is Friends or partner or kids, when the weather is Sunny, when the temperature is 80F which is normal, and when time is 10 AM and 2 PM.\n",
    "* In the age feature, 21 or below 21 age users have the highest FP rate, and 30plus age users have the highest FN rate.\n",
    "* Every coupon types have a high FP rate, but from that 'Carry out & Take away' coupon has the highest FP rate due to this coupon having a high acceptance rate than others.\n",
    "* In the coupon_freq feature, is 4to8 data point has the highest False Positive rate.\n",
    "* The false-negative rate is high when data points are unusual or for engaged users, like, when a destination is Work or Home, when a passenger is Alone, when weather is Rainy or Snowy, when the temperature is 30F or 55F which is very low, when time is 7 AM or 10 PM, when coupon type is expensive Restaurant(20-50) or Bar, when coupon expiration is 2h which is very low expiration time, when age is 30plus, when to_Coupon is 2 which means restaurant or cafe is more than 25 min away from the user.  \n",
    "* Every datapoints prediction depends on the number of total data points present in the dataset.\n",
    "* Improve model accuracy, need to create new features, and required more information or more no of data points."
   ]
  },
  {
   "cell_type": "code",
   "execution_count": null,
   "metadata": {
    "id": "xyrKxwbFrSwG"
   },
   "outputs": [],
   "source": []
  }
 ],
 "metadata": {
  "accelerator": "GPU",
  "colab": {
   "collapsed_sections": [
    "BhN2UB4_9HhS",
    "tLe_5XjGDOwj",
    "Ip08Sitb9Mxz",
    "MKeTSuCN9d8q",
    "HK6osHIvEtFT",
    "uBjjSt9qExoV"
   ],
   "machine_shape": "hm",
   "name": "Post Training Analysis-In_vehicle_coupon_recommendation_Data_Pipeline_Ordinal_Stacking.ipynb",
   "provenance": []
  },
  "kernelspec": {
   "display_name": "Python 3",
   "language": "python",
   "name": "python3"
  },
  "language_info": {
   "codemirror_mode": {
    "name": "ipython",
    "version": 3
   },
   "file_extension": ".py",
   "mimetype": "text/x-python",
   "name": "python",
   "nbconvert_exporter": "python",
   "pygments_lexer": "ipython3",
   "version": "3.6.5"
  }
 },
 "nbformat": 4,
 "nbformat_minor": 1
}
