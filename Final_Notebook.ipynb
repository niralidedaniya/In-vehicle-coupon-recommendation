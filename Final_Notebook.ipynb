{
 "cells": [
  {
   "cell_type": "code",
   "execution_count": null,
   "metadata": {
    "colab": {
     "base_uri": "https://localhost:8080/"
    },
    "id": "gCPjHBPq_iDn",
    "outputId": "98c0e036-d01c-4abd-85db-2729bc691eb6"
   },
   "outputs": [
    {
     "name": "stdout",
     "output_type": "stream",
     "text": [
      "Drive already mounted at /content/drive; to attempt to forcibly remount, call drive.mount(\"/content/drive\", force_remount=True).\n"
     ]
    }
   ],
   "source": [
    "from google.colab import drive\n",
    "drive.mount('/content/drive')"
   ]
  },
  {
   "cell_type": "code",
   "execution_count": null,
   "metadata": {
    "colab": {
     "base_uri": "https://localhost:8080/"
    },
    "id": "jieBzd0T8Dy_",
    "outputId": "b575957a-122f-44ae-9754-42bb01f5e97e"
   },
   "outputs": [
    {
     "name": "stdout",
     "output_type": "stream",
     "text": [
      "X_Test: (2030, 25) \n",
      "y_Test: (2030,)\n"
     ]
    }
   ],
   "source": [
    "import pandas as pd\n",
    "import numpy as np\n",
    "from sklearn.metrics import log_loss,roc_auc_score\n",
    "from tqdm import tqdm\n",
    "import pickle\n",
    "import warnings\n",
    "warnings.filterwarnings(\"ignore\")\n",
    "\n",
    "Test_data = pd.read_csv('/content/drive/MyDrive/Applied AI/CS1/Final/Test_Final.csv')\n",
    "\n",
    "X_Test = Test_data.drop(['Y'], axis=1)\n",
    "y_Test = Test_data['Y'].values\n",
    "\n",
    "print('X_Test:',X_Test.shape,'\\ny_Test:',y_Test.shape)"
   ]
  },
  {
   "cell_type": "markdown",
   "metadata": {
    "id": "xUKHalp6Ccaf"
   },
   "source": [
    "## 1.1 Final function that computes prediction of a single datapoint"
   ]
  },
  {
   "cell_type": "code",
   "execution_count": null,
   "metadata": {
    "id": "oJF_ZeVDqF2z"
   },
   "outputs": [],
   "source": [
    "def final_function_1(X): # X is a single datapoint\n",
    "\n",
    "  X = X.drop(['car','direction_opp','toCoupon_GEQ5min'], axis=1)\n",
    "\n",
    "  # mode imputation for missing values in data point\n",
    "  frequent_df = pd.read_csv('/content/drive/MyDrive/Applied AI/CS1/Final/frequent_values.csv',index_col=0)\n",
    "  for i in (X.columns.values):\n",
    "    if (X[i].isnull().values.any()):\n",
    "      X[i] = X[i].fillna(frequent_df.loc[i][0])\n",
    "\n",
    "  # FE-1\n",
    "  if (list(X['toCoupon_GEQ15min'])[0] == 0):\n",
    "    X['to_Coupon'] = 'within15min'\n",
    "  elif (list(X['toCoupon_GEQ15min'])[0] == 1)and(list(X['toCoupon_GEQ25min'])[0] == 0):\n",
    "    X['to_Coupon'] = 'within25min'\n",
    "  else:\n",
    "    X['to_Coupon'] = 'morethan25min'\n",
    "  # FE-2\n",
    "  if (list(X['coupon'])[0] == 'Restaurant(<20)'):\n",
    "        X['coupon_freq'] = (list(X['RestaurantLessThan20'])[0])\n",
    "  elif (list(X['coupon'])[0] == 'Coffee House'):\n",
    "        X['coupon_freq'] = (list(X['CoffeeHouse'])[0])\n",
    "  elif (list(X['coupon'])[0] == 'Carry out & Take away'):\n",
    "        X['coupon_freq'] = (list(X['CarryAway'])[0])\n",
    "  elif (list(X['coupon'])[0] == 'Bar'):\n",
    "        X['coupon_freq'] = (list(X['Bar'])[0])\n",
    "  elif (list(X['coupon'])[0] == 'Restaurant(20-50)'):\n",
    "        X['coupon_freq'] = (list(X['Restaurant20To50'])[0])\n",
    "  # FE-3\n",
    "  occupation_dict = {'Healthcare Support':'High_Acceptance','Construction & Extraction':'High_Acceptance','Healthcare Practitioners & Technical':'High_Acceptance',\n",
    "                   'Protective Service':'High_Acceptance','Architecture & Engineering':'High_Acceptance','Production Occupations':'Medium_High_Acceptance',\n",
    "                    'Student':'Medium_High_Acceptance','Office & Administrative Support':'Medium_High_Acceptance','Transportation & Material Moving':'Medium_High_Acceptance',\n",
    "                    'Building & Grounds Cleaning & Maintenance':'Medium_High_Acceptance','Management':'Medium_Acceptance','Food Preparation & Serving Related':'Medium_Acceptance',\n",
    "                   'Life Physical Social Science':'Medium_Acceptance','Business & Financial':'Medium_Acceptance','Computer & Mathematical':'Medium_Acceptance',\n",
    "                    'Sales & Related':'Medium_Low_Acceptance','Personal Care & Service':'Medium_Low_Acceptance','Unemployed':'Medium_Low_Acceptance',\n",
    "                   'Farming Fishing & Forestry':'Medium_Low_Acceptance','Installation Maintenance & Repair':'Medium_Low_Acceptance','Education&Training&Library':'Low_Acceptance',\n",
    "                    'Arts Design Entertainment Sports & Media':'Low_Acceptance','Community & Social Services':'Low_Acceptance','Legal':'Low_Acceptance','Retired':'Low_Acceptance'}\n",
    "  X['occupation_class'] = X['occupation'].map(occupation_dict)\n",
    "  X = X.drop(['occupation'], axis=1)\n",
    "\n",
    "  # Encoding\n",
    "  vectorizer = pickle.load(open(\"/content/drive/MyDrive/Applied AI/CS1/Final/vectorizer.pkl\", \"rb\"))\n",
    "  X_Ordinal_encoding = vectorizer.transform(X)\n",
    "  X_Ordinal_encoding = pd.DataFrame(X_Ordinal_encoding,columns=(X.columns.values)+'_OrE')\n",
    "\n",
    "  # load trained model\n",
    "  model = pickle.load(open(\"/content/drive/MyDrive/Applied AI/CS1/Final/model.pkl\", \"rb\"))\n",
    "  y_pred = model.predict(X_Ordinal_encoding)\n",
    "  y_pred_prob = model.predict_proba(X_Ordinal_encoding)\n",
    "\n",
    "  return y_pred[0], y_pred_prob[0]"
   ]
  },
  {
   "cell_type": "code",
   "execution_count": null,
   "metadata": {
    "colab": {
     "base_uri": "https://localhost:8080/"
    },
    "id": "WcDNmXCq2XXy",
    "outputId": "5b203595-5a4c-4f13-e3bb-edd09de1e072"
   },
   "outputs": [
    {
     "name": "stdout",
     "output_type": "stream",
     "text": [
      "Actual output for given datapoint is 0\n",
      "Predicted output for given datapoint is 0\n",
      "Predicted probability for given datapoint is [0.88290001 0.11709999]\n"
     ]
    }
   ],
   "source": [
    "datapoint = X_Test.iloc[[212]]\n",
    "Predicted_output, Predicted_prob = final_function_1(datapoint)\n",
    "print('Actual output for given datapoint is',y_Test[212])\n",
    "print('Predicted output for given datapoint is',Predicted_output)\n",
    "print('Predicted probability for given datapoint is',Predicted_prob)"
   ]
  },
  {
   "cell_type": "code",
   "execution_count": null,
   "metadata": {
    "colab": {
     "base_uri": "https://localhost:8080/"
    },
    "id": "SH5vUT5yFLGT",
    "outputId": "2c1d9362-a47d-43b7-a67d-f8f7080890df"
   },
   "outputs": [
    {
     "name": "stdout",
     "output_type": "stream",
     "text": [
      "Actual output for given datapoint is 1\n",
      "Predicted output for given datapoint is 1\n",
      "Predicted probability for given datapoint is [0.11612079 0.88387921]\n"
     ]
    }
   ],
   "source": [
    "datapoint = X_Test.iloc[[356]]\n",
    "Predicted_output, Predicted_prob = final_function_1(datapoint)\n",
    "print('Actual output for given datapoint is',y_Test[356])\n",
    "print('Predicted output for given datapoint is',Predicted_output)\n",
    "print('Predicted probability for given datapoint is',Predicted_prob)"
   ]
  },
  {
   "cell_type": "markdown",
   "metadata": {
    "id": "-L9aJL3e2gZK"
   },
   "source": [
    "## 1.2 Final function that computes metric of the unseen dataset"
   ]
  },
  {
   "cell_type": "code",
   "execution_count": null,
   "metadata": {
    "colab": {
     "base_uri": "https://localhost:8080/"
    },
    "id": "DKvBHZBaqF9z",
    "outputId": "9dcbb2dc-9bd5-4d1a-d0a8-1c8ae904ec90"
   },
   "outputs": [
    {
     "name": "stderr",
     "output_type": "stream",
     "text": [
      "100%|██████████| 2030/2030 [2:41:18<00:00,  4.77s/it]"
     ]
    },
    {
     "name": "stdout",
     "output_type": "stream",
     "text": [
      "\n",
      "Test log loss: 0.4884936156148184 \n",
      "Test AUC Score: 0.8435276742400861\n"
     ]
    },
    {
     "name": "stderr",
     "output_type": "stream",
     "text": [
      "\n"
     ]
    }
   ],
   "source": [
    "def final_function_2(X_set,y_set): # X_set & y_set is an unseen dataset\n",
    "  Y_predict = []\n",
    "  Y_predict_prob = []\n",
    "  for i in tqdm(range(X_set.shape[0])):\n",
    "    df = pd.DataFrame([(X_set.iloc[i]).values],columns=(X_set.iloc[i]).index)\n",
    "    y_pred, y_pred_prob = final_function_1(df)\n",
    "    Y_predict.append(y_pred)\n",
    "    Y_predict_prob.append(y_pred_prob)\n",
    "    \n",
    "  logloss = log_loss(y_set,np.array(Y_predict_prob))\n",
    "  AUC_Score = roc_auc_score(y_set,np.array(Y_predict_prob)[:,1])\n",
    "  \n",
    "  return logloss, AUC_Score\n",
    "\n",
    "logloss, AUC_Score  = final_function_2(X_Test,y_Test)\n",
    "print('\\nTest log loss:',logloss,'\\nTest AUC Score:',AUC_Score)"
   ]
  }
 ],
 "metadata": {
  "colab": {
   "collapsed_sections": [],
   "name": "Final_Notebook.ipynb",
   "provenance": []
  },
  "kernelspec": {
   "display_name": "Python 3",
   "language": "python",
   "name": "python3"
  },
  "language_info": {
   "codemirror_mode": {
    "name": "ipython",
    "version": 3
   },
   "file_extension": ".py",
   "mimetype": "text/x-python",
   "name": "python",
   "nbconvert_exporter": "python",
   "pygments_lexer": "ipython3",
   "version": "3.6.5"
  }
 },
 "nbformat": 4,
 "nbformat_minor": 1
}
